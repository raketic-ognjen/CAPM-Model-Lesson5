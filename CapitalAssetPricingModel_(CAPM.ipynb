{
  "nbformat": 4,
  "nbformat_minor": 0,
  "metadata": {
    "colab": {
      "provenance": []
    },
    "kernelspec": {
      "name": "python3",
      "display_name": "Python 3"
    },
    "language_info": {
      "name": "python"
    }
  },
  "cells": [
    {
      "cell_type": "markdown",
      "source": [
        "# <font color='tomato' style=\"font-size:40px\"><center><b>05. Capital Asset Pricing Model (CAPM)</b></center></font>"
      ],
      "metadata": {
        "id": "Wv9VxdCPdBE-"
      }
    },
    {
      "cell_type": "markdown",
      "source": [
        "This is an intro to one of the most frequently used model in finance - Capital Asset Pricing Model or CAPM.This model, with all its oversimplicity, is the foundation for pricing equity (and creating and understanding analyst reports), company valuation etc.\n",
        "\n",
        "CAPM provides an alternative way to calculate expected returns on assets, with respect to the sample mean that we have employed thus far."
      ],
      "metadata": {
        "id": "h2qqs_9SdDD6"
      }
    },
    {
      "cell_type": "markdown",
      "source": [
        "## <font color='orange' style=\"font-size:25px\"><b>Installing and updating packages</b></font>"
      ],
      "metadata": {
        "id": "Ng0y9PicdEa0"
      }
    },
    {
      "cell_type": "markdown",
      "source": [
        "As usual, before we start, please update <font color='mediumseagreen'><b>Plotly - Graph Object</b></font> (only Google Colab users):"
      ],
      "metadata": {
        "id": "14y6nyKwdFRX"
      }
    },
    {
      "cell_type": "code",
      "execution_count": 1,
      "metadata": {
        "colab": {
          "base_uri": "https://localhost:8080/"
        },
        "id": "bA6eGvqUak_B",
        "outputId": "3666d163-d6fc-455b-e7a8-d7bd7572773e"
      },
      "outputs": [
        {
          "output_type": "stream",
          "name": "stdout",
          "text": [
            "Requirement already satisfied: plotly in /usr/local/lib/python3.10/dist-packages (5.15.0)\n",
            "Collecting plotly\n",
            "  Downloading plotly-5.16.1-py2.py3-none-any.whl (15.6 MB)\n",
            "\u001b[2K     \u001b[90m━━━━━━━━━━━━━━━━━━━━━━━━━━━━━━━━━━━━━━━\u001b[0m \u001b[32m15.6/15.6 MB\u001b[0m \u001b[31m108.2 MB/s\u001b[0m eta \u001b[36m0:00:00\u001b[0m\n",
            "\u001b[?25hRequirement already satisfied: tenacity>=6.2.0 in /usr/local/lib/python3.10/dist-packages (from plotly) (8.2.3)\n",
            "Requirement already satisfied: packaging in /usr/local/lib/python3.10/dist-packages (from plotly) (23.1)\n",
            "Installing collected packages: plotly\n",
            "  Attempting uninstall: plotly\n",
            "    Found existing installation: plotly 5.15.0\n",
            "    Uninstalling plotly-5.15.0:\n",
            "      Successfully uninstalled plotly-5.15.0\n",
            "Successfully installed plotly-5.16.1\n"
          ]
        }
      ],
      "source": [
        "%pip install plotly -U"
      ]
    },
    {
      "cell_type": "markdown",
      "source": [
        "In this lecture we are going to use following packages:\n",
        "* <font color='mediumseagreen'><b>Plotly - Graph Object</b></font>\n",
        "* <font color='mediumseagreen'><b>NumPy</b></font>\n",
        "* <font color='mediumseagreen'><b>Pandas</b></font>\n",
        "* <font color='mediumseagreen'><b>Pandas' DataReader</b></font>\n",
        "* <font color='mediumseagreen'><b>SciPy - Optimize</b></font>\n",
        "* function <font color='DodgerBlue'><b>make_subplots</b></font> from <font color='mediumseagreen'><b>Plotly - Subplots</b></font>\n",
        "* <font color='mediumseagreen'><b>StatsModels</b></font> - library which has variety of statistical models, test and indicators\n",
        "* Our small package for investment lectures - <font color='DarkTurquoise'><b>qt</b></font>. Before we import it, we need to upload it, of course (again Google Colab users only):"
      ],
      "metadata": {
        "id": "QoOH0di8dNX8"
      }
    },
    {
      "cell_type": "code",
      "source": [
        "import plotly.graph_objects as go\n",
        "import numpy as np\n",
        "import numpy.linalg as LA\n",
        "import pandas as pd\n",
        "import pandas_datareader as pdr\n",
        "from plotly.subplots import make_subplots\n",
        "import scipy.optimize as sco\n",
        "import statsmodels.api as sm\n",
        "import kvantitativne_formule as qt"
      ],
      "metadata": {
        "id": "nm5Z7yyzdIGY"
      },
      "execution_count": 1,
      "outputs": []
    },
    {
      "cell_type": "markdown",
      "source": [
        "In this lecture we talk about the idealized CAPM world, one of the benchmark models in finance. I have heavily relied here on **Bodie, Kane and Markus, Chapter 9 (especially 9.1).**\n",
        "\n",
        "CAPM is the model used to figure out cost of capital in corporations, discount rate when pricing company stocks and much, much more.\n",
        "\n",
        "It is also used to estimate in a different way expected returns when investors perform portfolio optimization."
      ],
      "metadata": {
        "id": "TjUpPd52eBOO"
      }
    },
    {
      "cell_type": "markdown",
      "source": [
        "## <font color='orange' style=\"font-size:25px\"><b>Capital Market Line (CML)</b></font>"
      ],
      "metadata": {
        "id": "MUqal1yEeOst"
      }
    },
    {
      "cell_type": "markdown",
      "source": [
        "In the previous lecture we studied the **efficient frontier** when we have a multiple risky assets and a risk-free asset and showed that it is **a straight line**. On that line, only the tangency portfolio consisting solely of risky assets is efficient.\n",
        "\n",
        "Suppose now that the following conditions hold (they are, obviously, highly simplifying)."
      ],
      "metadata": {
        "id": "L1duUq91ePr2"
      }
    },
    {
      "cell_type": "markdown",
      "source": [
        "\n",
        "1. There are many investors, each with wealth small compared\n",
        "to the total wealth of all investors. Investors are price-takers, ie. they act as\n",
        "though security prices are unaffected by their own trades **(price-taking assumption)**.\n",
        "\n",
        "2. All investors have the same investment period and ignore everything that might happen after the end of that period.\n"
      ],
      "metadata": {
        "id": "1m_HlsfweSOg"
      }
    },
    {
      "cell_type": "markdown",
      "source": [
        "\n",
        "3. Investments are limited to a universe of publicly traded financial assets, such\n",
        "as stocks and bonds, and to risk-free borrowing or lending. This\n",
        "rules out investment in nontraded assets such as education (human\n",
        "capital), private companies, and governmentally funded assets such as town halls\n",
        "and international airports. **All investors may borrow or lend any\n",
        "amount at the same risk-free rate.**"
      ],
      "metadata": {
        "id": "GUyplWcYeZE3"
      }
    },
    {
      "cell_type": "markdown",
      "source": [
        "\n",
        "4. No taxes or transaction costs exist."
      ],
      "metadata": {
        "id": "HKgYmlFWeaQL"
      }
    },
    {
      "cell_type": "markdown",
      "source": [
        "\n",
        "5. All investors are mean-variance optimizers, i.e. they all use the Markowitz portfolio selection model.\n",
        "\n",
        "6. All investors analyze securities **in the same way** and share the same economic view of the world. The result are **identical estimates of the probability distribution of future cash flows** from investing in the available securities; that is, for any set of security prices, they **all derive the same input list** to feed into the Markowitz\n",
        "model. (same expected returns and covariance matrix).\n",
        "\n",
        "All investors use the same expected returns and covariance matrix of security returns to generate the efficient frontier and the unique optimal risky portfolio. This assumption is often referred to as **homogeneous expectations or beliefs**."
      ],
      "metadata": {
        "id": "ZHD-3fksebgn"
      }
    },
    {
      "cell_type": "markdown",
      "source": [
        "In that case **all investors invest in a combination of a market portfolio and the risk free rate**, i.e. market portfolio is the tangency portfolio in the CAPM world.\n",
        "\n",
        "Efficient portfolios then all lie on the straight line in the ($\\sigma_p$, $\\mu_p$) plane. This line consists in a fraction of money invested in risk-free asset and the remainder into the market portfolio. This line is called the **Capital Market Line**.\n",
        "\n",
        "Under the above conditions, no investment portfolio can be above that line, those on the line are efficient, and below the line are inefficient and can be substituted by a combination on the line."
      ],
      "metadata": {
        "id": "TFEb_1NQeego"
      }
    },
    {
      "cell_type": "markdown",
      "source": [
        "Denote the risk-free rate by $r_f$ and the market portfolio return by $r_m$. Suppose, further, that the fraction of money invested in the market portfolio is $\\alpha$ so that the fraction $1-\\alpha$ is invested into the riskless fund."
      ],
      "metadata": {
        "id": "TJZC2oABeff3"
      }
    },
    {
      "cell_type": "markdown",
      "source": [
        "The expected return on such portfolio is:\n",
        "\n",
        "\\begin{align*}\n",
        "\\mu_p & = \\mathbb{E}(r_p)=(1-\\alpha)r_f+\\alpha \\mathbb{E}(r_m) \\\\\n",
        "& = r_f + \\alpha \\, (\\mathbb{E}(r_m) - r_f)\n",
        "\\end{align*}"
      ],
      "metadata": {
        "id": "4HCt61S1egUl"
      }
    },
    {
      "cell_type": "markdown",
      "source": [
        "The expected return on any efficient portfolio in this case is equal to the risk-free rate to which we add a risk premium. Risk premium is proportional to the market risk premium $\\mathbb{E}(r_m) - r_f$ multiplied by the fraction of our money invested into the market portfolio."
      ],
      "metadata": {
        "id": "1Q5EMTJDe0Ux"
      }
    },
    {
      "cell_type": "markdown",
      "source": [
        "By our previous assumptions, all investors assess market risk premium and the risk-free rate in an identical way. They only differ in how much risk they are willing to take, i.e. only differ by selecting different $\\alpha$."
      ],
      "metadata": {
        "id": "n4cJxzwCe06I"
      }
    },
    {
      "cell_type": "markdown",
      "source": [
        "Variance of such portfolio is (variance and covariance of a risk-less return are zero):"
      ],
      "metadata": {
        "id": "qC9z1z1Oe1sc"
      }
    },
    {
      "cell_type": "markdown",
      "source": [
        "$$\\sigma_p^2 =\\mathbb{V}(r_p)=\\alpha^2\\mathbb{V}(r_m)+(1-\\alpha)^2\\mathbb{V}(r_f)+2\\,\\alpha(1-\\alpha)\\,\\mathbb{Cov}(r_f,\\,r_m)=\\alpha^2\\, \\sigma_m^2$$"
      ],
      "metadata": {
        "id": "ymMlKBR5e2sT"
      }
    },
    {
      "cell_type": "markdown",
      "source": [
        "from which follows that volatility of this portfolio is:"
      ],
      "metadata": {
        "id": "j0pTgmPWe3tG"
      }
    },
    {
      "cell_type": "markdown",
      "source": [
        "$$\\sigma_p=\\alpha\\, \\sigma_m \\,\\,\\, ⇒ \\alpha = \\sigma_p/\\sigma_m$$"
      ],
      "metadata": {
        "id": "PZuM9DUye4is"
      }
    },
    {
      "cell_type": "markdown",
      "source": [
        "Combining the expression for volatility and the expected return, we find that:"
      ],
      "metadata": {
        "id": "RjhUBuxDe5Xa"
      }
    },
    {
      "cell_type": "markdown",
      "source": [
        "$$\\mathbb{E}(r_p) = \\mu_p =r_f + \\sigma_p \\, \\frac{\\mathbb{E}(r_m) - r_f}{\\sigma_m}$$\n",
        "\n"
      ],
      "metadata": {
        "id": "t4jHUkVKe6HI"
      }
    },
    {
      "cell_type": "markdown",
      "source": [
        "Note that this is a straight line in the $(\\sigma_p,\\mu_p)$ space. Its intercept is the risk-free rate and its slope is the Sharpe ratio of the market portfolio."
      ],
      "metadata": {
        "id": "x11fiZK6e682"
      }
    },
    {
      "cell_type": "markdown",
      "source": [
        "Note that in this world (we call it the idealized or CAPM world) Sharpe ratio of ANY optimal portfolio is equal to the Sharpe ratio of the market portfolio $\\frac{\\mathbb{E}(r_m) - r_f}{\\sigma_m}$. Namely\n",
        "\n",
        "$$\\mathbb{E}(r_p)- r_f=\\sigma_p \\, \\frac{\\mathbb{E}(r_m) - r_f}{\\sigma_m}$$ or, dividing both sides by $\\sigma_p$, we obtain\n",
        "\n",
        "$$ \\frac{\\mathbb{E}(r_p) - r_f}{\\sigma_p}  = \\frac{\\mathbb{E}(r_m) - r_f}{\\sigma_m}$$"
      ],
      "metadata": {
        "id": "GaMTM_fxe9U0"
      }
    },
    {
      "cell_type": "markdown",
      "source": [
        "> Suppose that the expected return on the market is 14 percent, the risk free rate is 5 percent and the standard deviation of the market portfolio is 20 percent per annum. Find market risk premium and the Sharpe ratio of an efficient portfolio."
      ],
      "metadata": {
        "id": "bu3yD1lLe-SG"
      }
    },
    {
      "cell_type": "code",
      "source": [
        "mu_mkt = 0.14\n",
        "r_f = 0.05\n",
        "sigma_mkt = 0.2\n",
        "\n",
        "mu_mkt-r_f, (mu_mkt - r_f)/sigma_mkt #parket risk premium and the Sharpe Ratio"
      ],
      "metadata": {
        "colab": {
          "base_uri": "https://localhost:8080/"
        },
        "id": "SpLJuFV8d-QL",
        "outputId": "8a939c63-a744-4adf-d018-2f958e526c57"
      },
      "execution_count": 2,
      "outputs": [
        {
          "output_type": "execute_result",
          "data": {
            "text/plain": [
              "(0.09000000000000001, 0.45)"
            ]
          },
          "metadata": {},
          "execution_count": 2
        }
      ]
    },
    {
      "cell_type": "markdown",
      "source": [
        "> Find the expected return of the efficient portfolio corresponding to the risk of 30 percent per annum. It is given by"
      ],
      "metadata": {
        "id": "_n9xZ2CxfWAh"
      }
    },
    {
      "cell_type": "code",
      "source": [
        "sigma_p = 0.3\n",
        "\n",
        "mu_p = r_f +(sigma_p/sigma_mkt)*(mu_mkt-r_f)\n",
        "mu_p"
      ],
      "metadata": {
        "colab": {
          "base_uri": "https://localhost:8080/"
        },
        "id": "HL9klyCnfOQO",
        "outputId": "f90666d4-a4ae-478c-98e5-b68ae7a26565"
      },
      "execution_count": 4,
      "outputs": [
        {
          "output_type": "execute_result",
          "data": {
            "text/plain": [
              "0.185"
            ]
          },
          "metadata": {},
          "execution_count": 4
        }
      ]
    },
    {
      "cell_type": "markdown",
      "source": [
        "> Suppose we have an investment that has the risk of 30 percent and the expected return of 16 percent. It would be inefficient. We should sell it and replace it with an investment on the CML line. How should we invest in this case to keep the same level of risk but get the highest possible expected return?"
      ],
      "metadata": {
        "id": "lIQzSvN6fl94"
      }
    },
    {
      "cell_type": "markdown",
      "source": [
        "The fraction that should be invested into the market portfolio is given by $\\alpha = \\sigma_p/\\sigma_m$. Thus, in our case, we would need to invest into that portfolio"
      ],
      "metadata": {
        "id": "OTo47G9Yfm7a"
      }
    },
    {
      "cell_type": "code",
      "source": [
        "alpha = sigma_p/sigma_mkt\n",
        "alpha"
      ],
      "metadata": {
        "colab": {
          "base_uri": "https://localhost:8080/"
        },
        "id": "hWrrAkJ4fiBN",
        "outputId": "55f6190b-b753-4290-f345-57cf140d5724"
      },
      "execution_count": 5,
      "outputs": [
        {
          "output_type": "execute_result",
          "data": {
            "text/plain": [
              "1.4999999999999998"
            ]
          },
          "metadata": {},
          "execution_count": 5
        }
      ]
    },
    {
      "cell_type": "markdown",
      "source": [
        "We would need to borrow risklessly at 5 percent and put 150 percent of our  money into the market portfolio. This is roughly what the Swedish state pension fund is doing. We now plot the CML line."
      ],
      "metadata": {
        "id": "ZTzKC1jnfsKX"
      }
    },
    {
      "cell_type": "code",
      "source": [
        "sigma_p = np.array([0.0,0.2,0.3,0.4,0.5])\n",
        "fig=go.Figure()\n",
        "fig.add_trace(\n",
        "    go.Scatter(\n",
        "        x=sigma_p,\n",
        "        y=0.05+0.45*sigma_p,\n",
        "        mode='markers+lines',\n",
        "        line_color ='Crimson',\n",
        "        marker_color = 'Yellow'\n",
        "    )\n",
        ")\n",
        "\n",
        "fig.update_layout(xaxis=dict(\n",
        "                  title_text=r'$\\sigma_p$'),\n",
        "                  yaxis=dict(\n",
        "                  title_text=r'$\\mu_p$'),\n",
        "                  title=dict(\n",
        "                  text='Capital Market Line',\n",
        "                  x=0.5,\n",
        "                  y=0.87,\n",
        "                  font=dict(\n",
        "                  size=30,\n",
        "                  color='Green'\n",
        "                  )\n",
        "                  )\n",
        ")\n",
        "\n",
        "fig.show()"
      ],
      "metadata": {
        "colab": {
          "base_uri": "https://localhost:8080/",
          "height": 542
        },
        "id": "bDBHtadHfqLm",
        "outputId": "e99f074f-33a6-43c5-e1b2-f249b9f9efe8"
      },
      "execution_count": 7,
      "outputs": [
        {
          "output_type": "display_data",
          "data": {
            "text/html": [
              "<html>\n",
              "<head><meta charset=\"utf-8\" /></head>\n",
              "<body>\n",
              "    <div>            <script src=\"https://cdnjs.cloudflare.com/ajax/libs/mathjax/2.7.5/MathJax.js?config=TeX-AMS-MML_SVG\"></script><script type=\"text/javascript\">if (window.MathJax && window.MathJax.Hub && window.MathJax.Hub.Config) {window.MathJax.Hub.Config({SVG: {font: \"STIX-Web\"}});}</script>                <script type=\"text/javascript\">window.PlotlyConfig = {MathJaxConfig: 'local'};</script>\n",
              "        <script charset=\"utf-8\" src=\"https://cdn.plot.ly/plotly-2.24.1.min.js\"></script>                <div id=\"b76723c3-cda7-45d8-a4cc-aab7228bf07b\" class=\"plotly-graph-div\" style=\"height:525px; width:100%;\"></div>            <script type=\"text/javascript\">                                    window.PLOTLYENV=window.PLOTLYENV || {};                                    if (document.getElementById(\"b76723c3-cda7-45d8-a4cc-aab7228bf07b\")) {                    Plotly.newPlot(                        \"b76723c3-cda7-45d8-a4cc-aab7228bf07b\",                        [{\"line\":{\"color\":\"Crimson\"},\"marker\":{\"color\":\"Yellow\"},\"mode\":\"markers+lines\",\"x\":[0.0,0.2,0.3,0.4,0.5],\"y\":[0.05,0.14,0.185,0.23000000000000004,0.275],\"type\":\"scatter\"}],                        {\"template\":{\"data\":{\"histogram2dcontour\":[{\"type\":\"histogram2dcontour\",\"colorbar\":{\"outlinewidth\":0,\"ticks\":\"\"},\"colorscale\":[[0.0,\"#0d0887\"],[0.1111111111111111,\"#46039f\"],[0.2222222222222222,\"#7201a8\"],[0.3333333333333333,\"#9c179e\"],[0.4444444444444444,\"#bd3786\"],[0.5555555555555556,\"#d8576b\"],[0.6666666666666666,\"#ed7953\"],[0.7777777777777778,\"#fb9f3a\"],[0.8888888888888888,\"#fdca26\"],[1.0,\"#f0f921\"]]}],\"choropleth\":[{\"type\":\"choropleth\",\"colorbar\":{\"outlinewidth\":0,\"ticks\":\"\"}}],\"histogram2d\":[{\"type\":\"histogram2d\",\"colorbar\":{\"outlinewidth\":0,\"ticks\":\"\"},\"colorscale\":[[0.0,\"#0d0887\"],[0.1111111111111111,\"#46039f\"],[0.2222222222222222,\"#7201a8\"],[0.3333333333333333,\"#9c179e\"],[0.4444444444444444,\"#bd3786\"],[0.5555555555555556,\"#d8576b\"],[0.6666666666666666,\"#ed7953\"],[0.7777777777777778,\"#fb9f3a\"],[0.8888888888888888,\"#fdca26\"],[1.0,\"#f0f921\"]]}],\"heatmap\":[{\"type\":\"heatmap\",\"colorbar\":{\"outlinewidth\":0,\"ticks\":\"\"},\"colorscale\":[[0.0,\"#0d0887\"],[0.1111111111111111,\"#46039f\"],[0.2222222222222222,\"#7201a8\"],[0.3333333333333333,\"#9c179e\"],[0.4444444444444444,\"#bd3786\"],[0.5555555555555556,\"#d8576b\"],[0.6666666666666666,\"#ed7953\"],[0.7777777777777778,\"#fb9f3a\"],[0.8888888888888888,\"#fdca26\"],[1.0,\"#f0f921\"]]}],\"heatmapgl\":[{\"type\":\"heatmapgl\",\"colorbar\":{\"outlinewidth\":0,\"ticks\":\"\"},\"colorscale\":[[0.0,\"#0d0887\"],[0.1111111111111111,\"#46039f\"],[0.2222222222222222,\"#7201a8\"],[0.3333333333333333,\"#9c179e\"],[0.4444444444444444,\"#bd3786\"],[0.5555555555555556,\"#d8576b\"],[0.6666666666666666,\"#ed7953\"],[0.7777777777777778,\"#fb9f3a\"],[0.8888888888888888,\"#fdca26\"],[1.0,\"#f0f921\"]]}],\"contourcarpet\":[{\"type\":\"contourcarpet\",\"colorbar\":{\"outlinewidth\":0,\"ticks\":\"\"}}],\"contour\":[{\"type\":\"contour\",\"colorbar\":{\"outlinewidth\":0,\"ticks\":\"\"},\"colorscale\":[[0.0,\"#0d0887\"],[0.1111111111111111,\"#46039f\"],[0.2222222222222222,\"#7201a8\"],[0.3333333333333333,\"#9c179e\"],[0.4444444444444444,\"#bd3786\"],[0.5555555555555556,\"#d8576b\"],[0.6666666666666666,\"#ed7953\"],[0.7777777777777778,\"#fb9f3a\"],[0.8888888888888888,\"#fdca26\"],[1.0,\"#f0f921\"]]}],\"surface\":[{\"type\":\"surface\",\"colorbar\":{\"outlinewidth\":0,\"ticks\":\"\"},\"colorscale\":[[0.0,\"#0d0887\"],[0.1111111111111111,\"#46039f\"],[0.2222222222222222,\"#7201a8\"],[0.3333333333333333,\"#9c179e\"],[0.4444444444444444,\"#bd3786\"],[0.5555555555555556,\"#d8576b\"],[0.6666666666666666,\"#ed7953\"],[0.7777777777777778,\"#fb9f3a\"],[0.8888888888888888,\"#fdca26\"],[1.0,\"#f0f921\"]]}],\"mesh3d\":[{\"type\":\"mesh3d\",\"colorbar\":{\"outlinewidth\":0,\"ticks\":\"\"}}],\"scatter\":[{\"fillpattern\":{\"fillmode\":\"overlay\",\"size\":10,\"solidity\":0.2},\"type\":\"scatter\"}],\"parcoords\":[{\"type\":\"parcoords\",\"line\":{\"colorbar\":{\"outlinewidth\":0,\"ticks\":\"\"}}}],\"scatterpolargl\":[{\"type\":\"scatterpolargl\",\"marker\":{\"colorbar\":{\"outlinewidth\":0,\"ticks\":\"\"}}}],\"bar\":[{\"error_x\":{\"color\":\"#2a3f5f\"},\"error_y\":{\"color\":\"#2a3f5f\"},\"marker\":{\"line\":{\"color\":\"#E5ECF6\",\"width\":0.5},\"pattern\":{\"fillmode\":\"overlay\",\"size\":10,\"solidity\":0.2}},\"type\":\"bar\"}],\"scattergeo\":[{\"type\":\"scattergeo\",\"marker\":{\"colorbar\":{\"outlinewidth\":0,\"ticks\":\"\"}}}],\"scatterpolar\":[{\"type\":\"scatterpolar\",\"marker\":{\"colorbar\":{\"outlinewidth\":0,\"ticks\":\"\"}}}],\"histogram\":[{\"marker\":{\"pattern\":{\"fillmode\":\"overlay\",\"size\":10,\"solidity\":0.2}},\"type\":\"histogram\"}],\"scattergl\":[{\"type\":\"scattergl\",\"marker\":{\"colorbar\":{\"outlinewidth\":0,\"ticks\":\"\"}}}],\"scatter3d\":[{\"type\":\"scatter3d\",\"line\":{\"colorbar\":{\"outlinewidth\":0,\"ticks\":\"\"}},\"marker\":{\"colorbar\":{\"outlinewidth\":0,\"ticks\":\"\"}}}],\"scattermapbox\":[{\"type\":\"scattermapbox\",\"marker\":{\"colorbar\":{\"outlinewidth\":0,\"ticks\":\"\"}}}],\"scatterternary\":[{\"type\":\"scatterternary\",\"marker\":{\"colorbar\":{\"outlinewidth\":0,\"ticks\":\"\"}}}],\"scattercarpet\":[{\"type\":\"scattercarpet\",\"marker\":{\"colorbar\":{\"outlinewidth\":0,\"ticks\":\"\"}}}],\"carpet\":[{\"aaxis\":{\"endlinecolor\":\"#2a3f5f\",\"gridcolor\":\"white\",\"linecolor\":\"white\",\"minorgridcolor\":\"white\",\"startlinecolor\":\"#2a3f5f\"},\"baxis\":{\"endlinecolor\":\"#2a3f5f\",\"gridcolor\":\"white\",\"linecolor\":\"white\",\"minorgridcolor\":\"white\",\"startlinecolor\":\"#2a3f5f\"},\"type\":\"carpet\"}],\"table\":[{\"cells\":{\"fill\":{\"color\":\"#EBF0F8\"},\"line\":{\"color\":\"white\"}},\"header\":{\"fill\":{\"color\":\"#C8D4E3\"},\"line\":{\"color\":\"white\"}},\"type\":\"table\"}],\"barpolar\":[{\"marker\":{\"line\":{\"color\":\"#E5ECF6\",\"width\":0.5},\"pattern\":{\"fillmode\":\"overlay\",\"size\":10,\"solidity\":0.2}},\"type\":\"barpolar\"}],\"pie\":[{\"automargin\":true,\"type\":\"pie\"}]},\"layout\":{\"autotypenumbers\":\"strict\",\"colorway\":[\"#636efa\",\"#EF553B\",\"#00cc96\",\"#ab63fa\",\"#FFA15A\",\"#19d3f3\",\"#FF6692\",\"#B6E880\",\"#FF97FF\",\"#FECB52\"],\"font\":{\"color\":\"#2a3f5f\"},\"hovermode\":\"closest\",\"hoverlabel\":{\"align\":\"left\"},\"paper_bgcolor\":\"white\",\"plot_bgcolor\":\"#E5ECF6\",\"polar\":{\"bgcolor\":\"#E5ECF6\",\"angularaxis\":{\"gridcolor\":\"white\",\"linecolor\":\"white\",\"ticks\":\"\"},\"radialaxis\":{\"gridcolor\":\"white\",\"linecolor\":\"white\",\"ticks\":\"\"}},\"ternary\":{\"bgcolor\":\"#E5ECF6\",\"aaxis\":{\"gridcolor\":\"white\",\"linecolor\":\"white\",\"ticks\":\"\"},\"baxis\":{\"gridcolor\":\"white\",\"linecolor\":\"white\",\"ticks\":\"\"},\"caxis\":{\"gridcolor\":\"white\",\"linecolor\":\"white\",\"ticks\":\"\"}},\"coloraxis\":{\"colorbar\":{\"outlinewidth\":0,\"ticks\":\"\"}},\"colorscale\":{\"sequential\":[[0.0,\"#0d0887\"],[0.1111111111111111,\"#46039f\"],[0.2222222222222222,\"#7201a8\"],[0.3333333333333333,\"#9c179e\"],[0.4444444444444444,\"#bd3786\"],[0.5555555555555556,\"#d8576b\"],[0.6666666666666666,\"#ed7953\"],[0.7777777777777778,\"#fb9f3a\"],[0.8888888888888888,\"#fdca26\"],[1.0,\"#f0f921\"]],\"sequentialminus\":[[0.0,\"#0d0887\"],[0.1111111111111111,\"#46039f\"],[0.2222222222222222,\"#7201a8\"],[0.3333333333333333,\"#9c179e\"],[0.4444444444444444,\"#bd3786\"],[0.5555555555555556,\"#d8576b\"],[0.6666666666666666,\"#ed7953\"],[0.7777777777777778,\"#fb9f3a\"],[0.8888888888888888,\"#fdca26\"],[1.0,\"#f0f921\"]],\"diverging\":[[0,\"#8e0152\"],[0.1,\"#c51b7d\"],[0.2,\"#de77ae\"],[0.3,\"#f1b6da\"],[0.4,\"#fde0ef\"],[0.5,\"#f7f7f7\"],[0.6,\"#e6f5d0\"],[0.7,\"#b8e186\"],[0.8,\"#7fbc41\"],[0.9,\"#4d9221\"],[1,\"#276419\"]]},\"xaxis\":{\"gridcolor\":\"white\",\"linecolor\":\"white\",\"ticks\":\"\",\"title\":{\"standoff\":15},\"zerolinecolor\":\"white\",\"automargin\":true,\"zerolinewidth\":2},\"yaxis\":{\"gridcolor\":\"white\",\"linecolor\":\"white\",\"ticks\":\"\",\"title\":{\"standoff\":15},\"zerolinecolor\":\"white\",\"automargin\":true,\"zerolinewidth\":2},\"scene\":{\"xaxis\":{\"backgroundcolor\":\"#E5ECF6\",\"gridcolor\":\"white\",\"linecolor\":\"white\",\"showbackground\":true,\"ticks\":\"\",\"zerolinecolor\":\"white\",\"gridwidth\":2},\"yaxis\":{\"backgroundcolor\":\"#E5ECF6\",\"gridcolor\":\"white\",\"linecolor\":\"white\",\"showbackground\":true,\"ticks\":\"\",\"zerolinecolor\":\"white\",\"gridwidth\":2},\"zaxis\":{\"backgroundcolor\":\"#E5ECF6\",\"gridcolor\":\"white\",\"linecolor\":\"white\",\"showbackground\":true,\"ticks\":\"\",\"zerolinecolor\":\"white\",\"gridwidth\":2}},\"shapedefaults\":{\"line\":{\"color\":\"#2a3f5f\"}},\"annotationdefaults\":{\"arrowcolor\":\"#2a3f5f\",\"arrowhead\":0,\"arrowwidth\":1},\"geo\":{\"bgcolor\":\"white\",\"landcolor\":\"#E5ECF6\",\"subunitcolor\":\"white\",\"showland\":true,\"showlakes\":true,\"lakecolor\":\"white\"},\"title\":{\"x\":0.05},\"mapbox\":{\"style\":\"light\"}}},\"xaxis\":{\"title\":{\"text\":\"$\\\\sigma_p$\"}},\"yaxis\":{\"title\":{\"text\":\"$\\\\mu_p$\"}},\"title\":{\"font\":{\"size\":30,\"color\":\"Green\"},\"text\":\"Capital Market Line\",\"x\":0.5,\"y\":0.87}},                        {\"responsive\": true}                    ).then(function(){\n",
              "                            \n",
              "var gd = document.getElementById('b76723c3-cda7-45d8-a4cc-aab7228bf07b');\n",
              "var x = new MutationObserver(function (mutations, observer) {{\n",
              "        var display = window.getComputedStyle(gd).display;\n",
              "        if (!display || display === 'none') {{\n",
              "            console.log([gd, 'removed!']);\n",
              "            Plotly.purge(gd);\n",
              "            observer.disconnect();\n",
              "        }}\n",
              "}});\n",
              "\n",
              "// Listen for the removal of the full notebook cells\n",
              "var notebookContainer = gd.closest('#notebook-container');\n",
              "if (notebookContainer) {{\n",
              "    x.observe(notebookContainer, {childList: true});\n",
              "}}\n",
              "\n",
              "// Listen for the clearing of the current output cell\n",
              "var outputEl = gd.closest('.output');\n",
              "if (outputEl) {{\n",
              "    x.observe(outputEl, {childList: true});\n",
              "}}\n",
              "\n",
              "                        })                };                            </script>        </div>\n",
              "</body>\n",
              "</html>"
            ]
          },
          "metadata": {}
        }
      ]
    },
    {
      "cell_type": "markdown",
      "source": [
        "Within the CAPM world, no portfolio can be constructed that would lie ABOVE the CML line. The best we can do is to invest on that line, i.e. to invest in a combination of the market portfolio and the risk-free rate."
      ],
      "metadata": {
        "id": "mVRyRN7rhb26"
      }
    },
    {
      "cell_type": "markdown",
      "source": [
        "### <font color='MediumVioletRed' style=\"font-size:20px\"><b>More on the market portfolio</b></font>"
      ],
      "metadata": {
        "id": "jrvhWfrnhmgd"
      }
    },
    {
      "cell_type": "markdown",
      "source": [
        "In the CAPM world, all investors will choose to hold a portfolio of risky assets in proportions that\n",
        "duplicate representation of the assets in the market portfolio ( M ), which includes\n",
        "all traded assets. For simplicity, we refer to all risky assets as stocks.\n"
      ],
      "metadata": {
        "id": "W4XlAoGshnXS"
      }
    },
    {
      "cell_type": "markdown",
      "source": [
        "What is the market portfolio? When we sum over, or aggregate, the portfolios of all\n",
        "individual investors, lending and borrowing will cancel out (because each lender has a\n",
        "corresponding borrower), and **the value of the aggregate risky portfolio will equal the\n",
        "entire wealth of the economy**. This is the market portfolio, M.\n",
        "\n",
        "The **proportion of each\n",
        "stock in this portfolio equals the market value of the stock (price per share times the number\n",
        "of shares outstanding) divided by the sum of the market values of all stocks.**\n",
        "\n",
        "CML implies that as individuals attempt to optimize their personal portfolios, they\n",
        "each arrive at the same portfolio, with weights on each asset equal to those of the market\n",
        "portfolio."
      ],
      "metadata": {
        "id": "4R6v9hfdhoKx"
      }
    },
    {
      "cell_type": "markdown",
      "source": [
        "Given the assumptions of the previous section, it is easy to see that all investors\n",
        "will desire to hold **identical risky portfolios**. If all investors use identical Markowitz\n",
        "analysis (Assumption 5) applied to the same universe of securities (Assumption 3) for\n",
        "the same time horizon (Assumption 2) and use the same input list (Assumption 6), they\n",
        "all must arrive at the same composition of the optimal risky portfolio, the portfolio on\n",
        "the efficient frontier identified by the tangency line from T-bills to that frontier.\n",
        "\n",
        "This implies that if the weight of GE stock, e.g, in each common\n",
        "risky portfolio is 1%, then GE also will comprise 1% of the market portfolio. The same\n",
        "principle applies to the proportion of any stock in each investor’s risky portfolio."
      ],
      "metadata": {
        "id": "zgmf4ffehszh"
      }
    },
    {
      "cell_type": "markdown",
      "source": [
        "Suppose the optimal portfolio of our investors does not include the stock of some\n",
        "company, such as Delta Airlines.\n",
        "\n",
        "When all investors avoid Delta stock, the demand is zero and Delta’s price takes a free fall. As Delta stock gets\n",
        "progressively cheaper, it becomes ever more attractive\n",
        "and other stocks look relatively less attractive.\n",
        "\n",
        "Ultimately, Delta reaches a price where it is attractive\n",
        "enough to include in the optimal stock portfolio."
      ],
      "metadata": {
        "id": "peYR1JZpht1N"
      }
    },
    {
      "cell_type": "markdown",
      "source": [
        "**Such a price adjustment process guarantees that\n",
        "all stocks will be included in the optimal portfolio, i.e. in the market portfolio.**"
      ],
      "metadata": {
        "id": "5A47WPaJhvDj"
      }
    }
  ]
}