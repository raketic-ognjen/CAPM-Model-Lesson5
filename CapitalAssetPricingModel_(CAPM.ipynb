{
  "nbformat": 4,
  "nbformat_minor": 0,
  "metadata": {
    "colab": {
      "provenance": [],
      "authorship_tag": "ABX9TyORafhSxlRIX0/JgYndY6Dn",
      "include_colab_link": true
    },
    "kernelspec": {
      "name": "python3",
      "display_name": "Python 3"
    },
    "language_info": {
      "name": "python"
    }
  },
  "cells": [
    {
      "cell_type": "markdown",
      "metadata": {
        "id": "view-in-github",
        "colab_type": "text"
      },
      "source": [
        "<a href=\"https://colab.research.google.com/github/raketic-ognjen/CAPM-Model-Lesson5/blob/main/CapitalAssetPricingModel_(CAPM.ipynb\" target=\"_parent\"><img src=\"https://colab.research.google.com/assets/colab-badge.svg\" alt=\"Open In Colab\"/></a>"
      ]
    },
    {
      "cell_type": "markdown",
      "source": [
        "# <font color='tomato' style=\"font-size:40px\"><center><b>05. Capital Asset Pricing Model (CAPM)</b></center></font>"
      ],
      "metadata": {
        "id": "Wv9VxdCPdBE-"
      }
    },
    {
      "cell_type": "markdown",
      "source": [
        "This is an intro to one of the most frequently used model in finance - Capital Asset Pricing Model or CAPM.This model, with all its oversimplicity, is the foundation for pricing equity (and creating and understanding analyst reports), company valuation etc.\n",
        "\n",
        "CAPM provides an alternative way to calculate expected returns on assets, with respect to the sample mean that we have employed thus far."
      ],
      "metadata": {
        "id": "h2qqs_9SdDD6"
      }
    },
    {
      "cell_type": "markdown",
      "source": [
        "## <font color='orange' style=\"font-size:25px\"><b>Installing and updating packages</b></font>"
      ],
      "metadata": {
        "id": "Ng0y9PicdEa0"
      }
    },
    {
      "cell_type": "markdown",
      "source": [
        "As usual, before we start, please update <font color='mediumseagreen'><b>Plotly - Graph Object</b></font> (only Google Colab users):"
      ],
      "metadata": {
        "id": "14y6nyKwdFRX"
      }
    },
    {
      "cell_type": "code",
      "execution_count": 1,
      "metadata": {
        "colab": {
          "base_uri": "https://localhost:8080/"
        },
        "id": "bA6eGvqUak_B",
        "outputId": "6863994e-cd42-4329-ec1b-096f2adc1d23"
      },
      "outputs": [
        {
          "output_type": "stream",
          "name": "stdout",
          "text": [
            "Requirement already satisfied: plotly in /usr/local/lib/python3.10/dist-packages (5.15.0)\n",
            "Collecting plotly\n",
            "  Downloading plotly-5.16.1-py2.py3-none-any.whl (15.6 MB)\n",
            "\u001b[2K     \u001b[90m━━━━━━━━━━━━━━━━━━━━━━━━━━━━━━━━━━━━━━━━\u001b[0m \u001b[32m15.6/15.6 MB\u001b[0m \u001b[31m31.7 MB/s\u001b[0m eta \u001b[36m0:00:00\u001b[0m\n",
            "\u001b[?25hRequirement already satisfied: tenacity>=6.2.0 in /usr/local/lib/python3.10/dist-packages (from plotly) (8.2.3)\n",
            "Requirement already satisfied: packaging in /usr/local/lib/python3.10/dist-packages (from plotly) (23.1)\n",
            "Installing collected packages: plotly\n",
            "  Attempting uninstall: plotly\n",
            "    Found existing installation: plotly 5.15.0\n",
            "    Uninstalling plotly-5.15.0:\n",
            "      Successfully uninstalled plotly-5.15.0\n",
            "Successfully installed plotly-5.16.1\n"
          ]
        }
      ],
      "source": [
        "%pip install plotly -U"
      ]
    },
    {
      "cell_type": "markdown",
      "source": [
        "In this lecture we are going to use following packages:\n",
        "* <font color='mediumseagreen'><b>Plotly - Graph Object</b></font>\n",
        "* <font color='mediumseagreen'><b>NumPy</b></font>\n",
        "* <font color='mediumseagreen'><b>Pandas</b></font>\n",
        "* <font color='mediumseagreen'><b>Pandas' DataReader</b></font>\n",
        "* <font color='mediumseagreen'><b>SciPy - Optimize</b></font>\n",
        "* function <font color='DodgerBlue'><b>make_subplots</b></font> from <font color='mediumseagreen'><b>Plotly - Subplots</b></font>\n",
        "* <font color='mediumseagreen'><b>StatsModels</b></font> - library which has variety of statistical models, test and indicators\n",
        "* Our small package for investment lectures - <font color='DarkTurquoise'><b>qt</b></font>. Before we import it, we need to upload it, of course (again Google Colab users only):"
      ],
      "metadata": {
        "id": "QoOH0di8dNX8"
      }
    },
    {
      "cell_type": "code",
      "source": [
        "import plotly.graph_objects as go\n",
        "import numpy as np\n",
        "import numpy.linalg as LA\n",
        "import pandas as pd\n",
        "import pandas_datareader as pdr\n",
        "from plotly.subplots import make_subplots\n",
        "import scipy.optimize as sco\n",
        "import statsmodels.api as sm\n",
        "import kvantitativne_formule as qt"
      ],
      "metadata": {
        "id": "nm5Z7yyzdIGY"
      },
      "execution_count": 2,
      "outputs": []
    },
    {
      "cell_type": "markdown",
      "source": [
        "In this lecture we talk about the idealized CAPM world, one of the benchmark models in finance. I have heavily relied here on **Bodie, Kane and Markus, Chapter 9 (especially 9.1).**\n",
        "\n",
        "CAPM is the model used to figure out cost of capital in corporations, discount rate when pricing company stocks and much, much more.\n",
        "\n",
        "It is also used to estimate in a different way expected returns when investors perform portfolio optimization."
      ],
      "metadata": {
        "id": "TjUpPd52eBOO"
      }
    },
    {
      "cell_type": "markdown",
      "source": [
        "## <font color='orange' style=\"font-size:25px\"><b>Capital Market Line (CML)</b></font>"
      ],
      "metadata": {
        "id": "MUqal1yEeOst"
      }
    },
    {
      "cell_type": "markdown",
      "source": [
        "In the previous lecture we studied the **efficient frontier** when we have a multiple risky assets and a risk-free asset and showed that it is **a straight line**. On that line, only the tangency portfolio consisting solely of risky assets is efficient.\n",
        "\n",
        "Suppose now that the following conditions hold (they are, obviously, highly simplifying)."
      ],
      "metadata": {
        "id": "L1duUq91ePr2"
      }
    },
    {
      "cell_type": "markdown",
      "source": [
        "\n",
        "1. There are many investors, each with wealth small compared\n",
        "to the total wealth of all investors. Investors are price-takers, ie. they act as\n",
        "though security prices are unaffected by their own trades **(price-taking assumption)**.\n",
        "\n",
        "2. All investors have the same investment period and ignore everything that might happen after the end of that period.\n"
      ],
      "metadata": {
        "id": "1m_HlsfweSOg"
      }
    },
    {
      "cell_type": "markdown",
      "source": [
        "\n",
        "3. Investments are limited to a universe of publicly traded financial assets, such\n",
        "as stocks and bonds, and to risk-free borrowing or lending. This\n",
        "rules out investment in nontraded assets such as education (human\n",
        "capital), private companies, and governmentally funded assets such as town halls\n",
        "and international airports. **All investors may borrow or lend any\n",
        "amount at the same risk-free rate.**"
      ],
      "metadata": {
        "id": "GUyplWcYeZE3"
      }
    },
    {
      "cell_type": "markdown",
      "source": [
        "\n",
        "4. No taxes or transaction costs exist."
      ],
      "metadata": {
        "id": "HKgYmlFWeaQL"
      }
    },
    {
      "cell_type": "markdown",
      "source": [
        "\n",
        "5. All investors are mean-variance optimizers, i.e. they all use the Markowitz portfolio selection model.\n",
        "\n",
        "6. All investors analyze securities **in the same way** and share the same economic view of the world. The result are **identical estimates of the probability distribution of future cash flows** from investing in the available securities; that is, for any set of security prices, they **all derive the same input list** to feed into the Markowitz\n",
        "model. (same expected returns and covariance matrix).\n",
        "\n",
        "All investors use the same expected returns and covariance matrix of security returns to generate the efficient frontier and the unique optimal risky portfolio. This assumption is often referred to as **homogeneous expectations or beliefs**."
      ],
      "metadata": {
        "id": "ZHD-3fksebgn"
      }
    },
    {
      "cell_type": "markdown",
      "source": [
        "In that case **all investors invest in a combination of a market portfolio and the risk free rate**, i.e. market portfolio is the tangency portfolio in the CAPM world.\n",
        "\n",
        "Efficient portfolios then all lie on the straight line in the ($\\sigma_p$, $\\mu_p$) plane. This line consists in a fraction of money invested in risk-free asset and the remainder into the market portfolio. This line is called the **Capital Market Line**.\n",
        "\n",
        "Under the above conditions, no investment portfolio can be above that line, those on the line are efficient, and below the line are inefficient and can be substituted by a combination on the line."
      ],
      "metadata": {
        "id": "TFEb_1NQeego"
      }
    },
    {
      "cell_type": "markdown",
      "source": [
        "Denote the risk-free rate by $r_f$ and the market portfolio return by $r_m$. Suppose, further, that the fraction of money invested in the market portfolio is $\\alpha$ so that the fraction $1-\\alpha$ is invested into the riskless fund."
      ],
      "metadata": {
        "id": "TJZC2oABeff3"
      }
    },
    {
      "cell_type": "markdown",
      "source": [
        "The expected return on such portfolio is:\n",
        "\n",
        "\\begin{align*}\n",
        "\\mu_p & = \\mathbb{E}(r_p)=(1-\\alpha)r_f+\\alpha \\mathbb{E}(r_m) \\\\\n",
        "& = r_f + \\alpha \\, (\\mathbb{E}(r_m) - r_f)\n",
        "\\end{align*}"
      ],
      "metadata": {
        "id": "4HCt61S1egUl"
      }
    },
    {
      "cell_type": "markdown",
      "source": [
        "The expected return on any efficient portfolio in this case is equal to the risk-free rate to which we add a risk premium. Risk premium is proportional to the market risk premium $\\mathbb{E}(r_m) - r_f$ multiplied by the fraction of our money invested into the market portfolio."
      ],
      "metadata": {
        "id": "1Q5EMTJDe0Ux"
      }
    },
    {
      "cell_type": "markdown",
      "source": [
        "By our previous assumptions, all investors assess market risk premium and the risk-free rate in an identical way. They only differ in how much risk they are willing to take, i.e. only differ by selecting different $\\alpha$."
      ],
      "metadata": {
        "id": "n4cJxzwCe06I"
      }
    },
    {
      "cell_type": "markdown",
      "source": [
        "Variance of such portfolio is (variance and covariance of a risk-less return are zero):"
      ],
      "metadata": {
        "id": "qC9z1z1Oe1sc"
      }
    },
    {
      "cell_type": "markdown",
      "source": [
        "$$\\sigma_p^2 =\\mathbb{V}(r_p)=\\alpha^2\\mathbb{V}(r_m)+(1-\\alpha)^2\\mathbb{V}(r_f)+2\\,\\alpha(1-\\alpha)\\,\\mathbb{Cov}(r_f,\\,r_m)=\\alpha^2\\, \\sigma_m^2$$"
      ],
      "metadata": {
        "id": "ymMlKBR5e2sT"
      }
    },
    {
      "cell_type": "markdown",
      "source": [
        "from which follows that volatility of this portfolio is:"
      ],
      "metadata": {
        "id": "j0pTgmPWe3tG"
      }
    },
    {
      "cell_type": "markdown",
      "source": [
        "$$\\sigma_p=\\alpha\\, \\sigma_m \\,\\,\\, ⇒ \\alpha = \\sigma_p/\\sigma_m$$"
      ],
      "metadata": {
        "id": "PZuM9DUye4is"
      }
    },
    {
      "cell_type": "markdown",
      "source": [
        "Combining the expression for volatility and the expected return, we find that:"
      ],
      "metadata": {
        "id": "RjhUBuxDe5Xa"
      }
    },
    {
      "cell_type": "markdown",
      "source": [
        "$$\\mathbb{E}(r_p) = \\mu_p =r_f + \\sigma_p \\, \\frac{\\mathbb{E}(r_m) - r_f}{\\sigma_m}$$\n",
        "\n"
      ],
      "metadata": {
        "id": "t4jHUkVKe6HI"
      }
    },
    {
      "cell_type": "markdown",
      "source": [
        "Note that this is a straight line in the $(\\sigma_p,\\mu_p)$ space. Its intercept is the risk-free rate and its slope is the Sharpe ratio of the market portfolio."
      ],
      "metadata": {
        "id": "x11fiZK6e682"
      }
    },
    {
      "cell_type": "markdown",
      "source": [
        "Note that in this world (we call it the idealized or CAPM world) Sharpe ratio of ANY optimal portfolio is equal to the Sharpe ratio of the market portfolio $\\frac{\\mathbb{E}(r_m) - r_f}{\\sigma_m}$. Namely\n",
        "\n",
        "$$\\mathbb{E}(r_p)- r_f=\\sigma_p \\, \\frac{\\mathbb{E}(r_m) - r_f}{\\sigma_m}$$ or, dividing both sides by $\\sigma_p$, we obtain\n",
        "\n",
        "$$ \\frac{\\mathbb{E}(r_p) - r_f}{\\sigma_p}  = \\frac{\\mathbb{E}(r_m) - r_f}{\\sigma_m}$$"
      ],
      "metadata": {
        "id": "GaMTM_fxe9U0"
      }
    },
    {
      "cell_type": "markdown",
      "source": [
        "> Suppose that the expected return on the market is 14 percent, the risk free rate is 5 percent and the standard deviation of the market portfolio is 20 percent per annum. Find market risk premium and the Sharpe ratio of an efficient portfolio."
      ],
      "metadata": {
        "id": "bu3yD1lLe-SG"
      }
    },
    {
      "cell_type": "code",
      "source": [
        "mu_mkt = 0.14\n",
        "r_f = 0.05\n",
        "sigma_mkt = 0.2\n",
        "\n",
        "mu_mkt-r_f, (mu_mkt - r_f)/sigma_mkt #parket risk premium and the Sharpe Ratio"
      ],
      "metadata": {
        "colab": {
          "base_uri": "https://localhost:8080/"
        },
        "id": "SpLJuFV8d-QL",
        "outputId": "f8a08a8f-fb69-4d02-99f5-d319103fd132"
      },
      "execution_count": 3,
      "outputs": [
        {
          "output_type": "execute_result",
          "data": {
            "text/plain": [
              "(0.09000000000000001, 0.45)"
            ]
          },
          "metadata": {},
          "execution_count": 3
        }
      ]
    },
    {
      "cell_type": "markdown",
      "source": [
        "> Find the expected return of the efficient portfolio corresponding to the risk of 30 percent per annum. It is given by"
      ],
      "metadata": {
        "id": "_n9xZ2CxfWAh"
      }
    },
    {
      "cell_type": "code",
      "source": [
        "sigma_p = 0.3\n",
        "\n",
        "mu_p = r_f +(sigma_p/sigma_mkt)*(mu_mkt-r_f)\n",
        "mu_p"
      ],
      "metadata": {
        "colab": {
          "base_uri": "https://localhost:8080/"
        },
        "id": "HL9klyCnfOQO",
        "outputId": "cdff6915-6f17-4030-85cb-6c4ba88a5bcf"
      },
      "execution_count": 4,
      "outputs": [
        {
          "output_type": "execute_result",
          "data": {
            "text/plain": [
              "0.185"
            ]
          },
          "metadata": {},
          "execution_count": 4
        }
      ]
    },
    {
      "cell_type": "markdown",
      "source": [
        "> Suppose we have an investment that has the risk of 30 percent and the expected return of 16 percent. It would be inefficient. We should sell it and replace it with an investment on the CML line. How should we invest in this case to keep the same level of risk but get the highest possible expected return?"
      ],
      "metadata": {
        "id": "lIQzSvN6fl94"
      }
    },
    {
      "cell_type": "markdown",
      "source": [
        "The fraction that should be invested into the market portfolio is given by $\\alpha = \\sigma_p/\\sigma_m$. Thus, in our case, we would need to invest into that portfolio"
      ],
      "metadata": {
        "id": "OTo47G9Yfm7a"
      }
    },
    {
      "cell_type": "code",
      "source": [
        "alpha = sigma_p/sigma_mkt\n",
        "alpha"
      ],
      "metadata": {
        "colab": {
          "base_uri": "https://localhost:8080/"
        },
        "id": "hWrrAkJ4fiBN",
        "outputId": "babd329f-7e6e-42c0-fa43-5bc74956571e"
      },
      "execution_count": 5,
      "outputs": [
        {
          "output_type": "execute_result",
          "data": {
            "text/plain": [
              "1.4999999999999998"
            ]
          },
          "metadata": {},
          "execution_count": 5
        }
      ]
    },
    {
      "cell_type": "markdown",
      "source": [
        "We would need to borrow risklessly at 5 percent and put 150 percent of our  money into the market portfolio. This is roughly what the Swedish state pension fund is doing. We now plot the CML line."
      ],
      "metadata": {
        "id": "ZTzKC1jnfsKX"
      }
    },
    {
      "cell_type": "code",
      "source": [
        "sigma_p = np.array([0.0,0.2,0.3,0.4,0.5])\n",
        "fig=go.Figure()\n",
        "fig.add_trace(\n",
        "    go.Scatter(\n",
        "        x=sigma_p,\n",
        "        y=0.05+0.45*sigma_p,\n",
        "        mode='markers+lines',\n",
        "        line_color ='Crimson',\n",
        "        marker_color = 'Yellow'\n",
        "    )\n",
        ")\n",
        "\n",
        "fig.update_layout(xaxis=dict(\n",
        "                  title_text=r'$\\sigma_p$'),\n",
        "                  yaxis=dict(\n",
        "                  title_text=r'$\\mu_p$'),\n",
        "                  title=dict(\n",
        "                  text='Capital Market Line',\n",
        "                  x=0.5,\n",
        "                  y=0.87,\n",
        "                  font=dict(\n",
        "                  size=30,\n",
        "                  color='Green'\n",
        "                  )\n",
        "                  )\n",
        ")\n",
        "\n",
        "fig.show()"
      ],
      "metadata": {
        "colab": {
          "base_uri": "https://localhost:8080/",
          "height": 542
        },
        "id": "bDBHtadHfqLm",
        "outputId": "28895735-1902-4324-8d34-99cd5e8b1a3f"
      },
      "execution_count": 6,
      "outputs": [
        {
          "output_type": "display_data",
          "data": {
            "text/html": [
              "<html>\n",
              "<head><meta charset=\"utf-8\" /></head>\n",
              "<body>\n",
              "    <div>            <script src=\"https://cdnjs.cloudflare.com/ajax/libs/mathjax/2.7.5/MathJax.js?config=TeX-AMS-MML_SVG\"></script><script type=\"text/javascript\">if (window.MathJax && window.MathJax.Hub && window.MathJax.Hub.Config) {window.MathJax.Hub.Config({SVG: {font: \"STIX-Web\"}});}</script>                <script type=\"text/javascript\">window.PlotlyConfig = {MathJaxConfig: 'local'};</script>\n",
              "        <script charset=\"utf-8\" src=\"https://cdn.plot.ly/plotly-2.25.2.min.js\"></script>                <div id=\"105f58fb-a231-4a78-a829-7cdb6ec35a32\" class=\"plotly-graph-div\" style=\"height:525px; width:100%;\"></div>            <script type=\"text/javascript\">                                    window.PLOTLYENV=window.PLOTLYENV || {};                                    if (document.getElementById(\"105f58fb-a231-4a78-a829-7cdb6ec35a32\")) {                    Plotly.newPlot(                        \"105f58fb-a231-4a78-a829-7cdb6ec35a32\",                        [{\"line\":{\"color\":\"Crimson\"},\"marker\":{\"color\":\"Yellow\"},\"mode\":\"markers+lines\",\"x\":[0.0,0.2,0.3,0.4,0.5],\"y\":[0.05,0.14,0.185,0.23000000000000004,0.275],\"type\":\"scatter\"}],                        {\"template\":{\"data\":{\"histogram2dcontour\":[{\"type\":\"histogram2dcontour\",\"colorbar\":{\"outlinewidth\":0,\"ticks\":\"\"},\"colorscale\":[[0.0,\"#0d0887\"],[0.1111111111111111,\"#46039f\"],[0.2222222222222222,\"#7201a8\"],[0.3333333333333333,\"#9c179e\"],[0.4444444444444444,\"#bd3786\"],[0.5555555555555556,\"#d8576b\"],[0.6666666666666666,\"#ed7953\"],[0.7777777777777778,\"#fb9f3a\"],[0.8888888888888888,\"#fdca26\"],[1.0,\"#f0f921\"]]}],\"choropleth\":[{\"type\":\"choropleth\",\"colorbar\":{\"outlinewidth\":0,\"ticks\":\"\"}}],\"histogram2d\":[{\"type\":\"histogram2d\",\"colorbar\":{\"outlinewidth\":0,\"ticks\":\"\"},\"colorscale\":[[0.0,\"#0d0887\"],[0.1111111111111111,\"#46039f\"],[0.2222222222222222,\"#7201a8\"],[0.3333333333333333,\"#9c179e\"],[0.4444444444444444,\"#bd3786\"],[0.5555555555555556,\"#d8576b\"],[0.6666666666666666,\"#ed7953\"],[0.7777777777777778,\"#fb9f3a\"],[0.8888888888888888,\"#fdca26\"],[1.0,\"#f0f921\"]]}],\"heatmap\":[{\"type\":\"heatmap\",\"colorbar\":{\"outlinewidth\":0,\"ticks\":\"\"},\"colorscale\":[[0.0,\"#0d0887\"],[0.1111111111111111,\"#46039f\"],[0.2222222222222222,\"#7201a8\"],[0.3333333333333333,\"#9c179e\"],[0.4444444444444444,\"#bd3786\"],[0.5555555555555556,\"#d8576b\"],[0.6666666666666666,\"#ed7953\"],[0.7777777777777778,\"#fb9f3a\"],[0.8888888888888888,\"#fdca26\"],[1.0,\"#f0f921\"]]}],\"heatmapgl\":[{\"type\":\"heatmapgl\",\"colorbar\":{\"outlinewidth\":0,\"ticks\":\"\"},\"colorscale\":[[0.0,\"#0d0887\"],[0.1111111111111111,\"#46039f\"],[0.2222222222222222,\"#7201a8\"],[0.3333333333333333,\"#9c179e\"],[0.4444444444444444,\"#bd3786\"],[0.5555555555555556,\"#d8576b\"],[0.6666666666666666,\"#ed7953\"],[0.7777777777777778,\"#fb9f3a\"],[0.8888888888888888,\"#fdca26\"],[1.0,\"#f0f921\"]]}],\"contourcarpet\":[{\"type\":\"contourcarpet\",\"colorbar\":{\"outlinewidth\":0,\"ticks\":\"\"}}],\"contour\":[{\"type\":\"contour\",\"colorbar\":{\"outlinewidth\":0,\"ticks\":\"\"},\"colorscale\":[[0.0,\"#0d0887\"],[0.1111111111111111,\"#46039f\"],[0.2222222222222222,\"#7201a8\"],[0.3333333333333333,\"#9c179e\"],[0.4444444444444444,\"#bd3786\"],[0.5555555555555556,\"#d8576b\"],[0.6666666666666666,\"#ed7953\"],[0.7777777777777778,\"#fb9f3a\"],[0.8888888888888888,\"#fdca26\"],[1.0,\"#f0f921\"]]}],\"surface\":[{\"type\":\"surface\",\"colorbar\":{\"outlinewidth\":0,\"ticks\":\"\"},\"colorscale\":[[0.0,\"#0d0887\"],[0.1111111111111111,\"#46039f\"],[0.2222222222222222,\"#7201a8\"],[0.3333333333333333,\"#9c179e\"],[0.4444444444444444,\"#bd3786\"],[0.5555555555555556,\"#d8576b\"],[0.6666666666666666,\"#ed7953\"],[0.7777777777777778,\"#fb9f3a\"],[0.8888888888888888,\"#fdca26\"],[1.0,\"#f0f921\"]]}],\"mesh3d\":[{\"type\":\"mesh3d\",\"colorbar\":{\"outlinewidth\":0,\"ticks\":\"\"}}],\"scatter\":[{\"fillpattern\":{\"fillmode\":\"overlay\",\"size\":10,\"solidity\":0.2},\"type\":\"scatter\"}],\"parcoords\":[{\"type\":\"parcoords\",\"line\":{\"colorbar\":{\"outlinewidth\":0,\"ticks\":\"\"}}}],\"scatterpolargl\":[{\"type\":\"scatterpolargl\",\"marker\":{\"colorbar\":{\"outlinewidth\":0,\"ticks\":\"\"}}}],\"bar\":[{\"error_x\":{\"color\":\"#2a3f5f\"},\"error_y\":{\"color\":\"#2a3f5f\"},\"marker\":{\"line\":{\"color\":\"#E5ECF6\",\"width\":0.5},\"pattern\":{\"fillmode\":\"overlay\",\"size\":10,\"solidity\":0.2}},\"type\":\"bar\"}],\"scattergeo\":[{\"type\":\"scattergeo\",\"marker\":{\"colorbar\":{\"outlinewidth\":0,\"ticks\":\"\"}}}],\"scatterpolar\":[{\"type\":\"scatterpolar\",\"marker\":{\"colorbar\":{\"outlinewidth\":0,\"ticks\":\"\"}}}],\"histogram\":[{\"marker\":{\"pattern\":{\"fillmode\":\"overlay\",\"size\":10,\"solidity\":0.2}},\"type\":\"histogram\"}],\"scattergl\":[{\"type\":\"scattergl\",\"marker\":{\"colorbar\":{\"outlinewidth\":0,\"ticks\":\"\"}}}],\"scatter3d\":[{\"type\":\"scatter3d\",\"line\":{\"colorbar\":{\"outlinewidth\":0,\"ticks\":\"\"}},\"marker\":{\"colorbar\":{\"outlinewidth\":0,\"ticks\":\"\"}}}],\"scattermapbox\":[{\"type\":\"scattermapbox\",\"marker\":{\"colorbar\":{\"outlinewidth\":0,\"ticks\":\"\"}}}],\"scatterternary\":[{\"type\":\"scatterternary\",\"marker\":{\"colorbar\":{\"outlinewidth\":0,\"ticks\":\"\"}}}],\"scattercarpet\":[{\"type\":\"scattercarpet\",\"marker\":{\"colorbar\":{\"outlinewidth\":0,\"ticks\":\"\"}}}],\"carpet\":[{\"aaxis\":{\"endlinecolor\":\"#2a3f5f\",\"gridcolor\":\"white\",\"linecolor\":\"white\",\"minorgridcolor\":\"white\",\"startlinecolor\":\"#2a3f5f\"},\"baxis\":{\"endlinecolor\":\"#2a3f5f\",\"gridcolor\":\"white\",\"linecolor\":\"white\",\"minorgridcolor\":\"white\",\"startlinecolor\":\"#2a3f5f\"},\"type\":\"carpet\"}],\"table\":[{\"cells\":{\"fill\":{\"color\":\"#EBF0F8\"},\"line\":{\"color\":\"white\"}},\"header\":{\"fill\":{\"color\":\"#C8D4E3\"},\"line\":{\"color\":\"white\"}},\"type\":\"table\"}],\"barpolar\":[{\"marker\":{\"line\":{\"color\":\"#E5ECF6\",\"width\":0.5},\"pattern\":{\"fillmode\":\"overlay\",\"size\":10,\"solidity\":0.2}},\"type\":\"barpolar\"}],\"pie\":[{\"automargin\":true,\"type\":\"pie\"}]},\"layout\":{\"autotypenumbers\":\"strict\",\"colorway\":[\"#636efa\",\"#EF553B\",\"#00cc96\",\"#ab63fa\",\"#FFA15A\",\"#19d3f3\",\"#FF6692\",\"#B6E880\",\"#FF97FF\",\"#FECB52\"],\"font\":{\"color\":\"#2a3f5f\"},\"hovermode\":\"closest\",\"hoverlabel\":{\"align\":\"left\"},\"paper_bgcolor\":\"white\",\"plot_bgcolor\":\"#E5ECF6\",\"polar\":{\"bgcolor\":\"#E5ECF6\",\"angularaxis\":{\"gridcolor\":\"white\",\"linecolor\":\"white\",\"ticks\":\"\"},\"radialaxis\":{\"gridcolor\":\"white\",\"linecolor\":\"white\",\"ticks\":\"\"}},\"ternary\":{\"bgcolor\":\"#E5ECF6\",\"aaxis\":{\"gridcolor\":\"white\",\"linecolor\":\"white\",\"ticks\":\"\"},\"baxis\":{\"gridcolor\":\"white\",\"linecolor\":\"white\",\"ticks\":\"\"},\"caxis\":{\"gridcolor\":\"white\",\"linecolor\":\"white\",\"ticks\":\"\"}},\"coloraxis\":{\"colorbar\":{\"outlinewidth\":0,\"ticks\":\"\"}},\"colorscale\":{\"sequential\":[[0.0,\"#0d0887\"],[0.1111111111111111,\"#46039f\"],[0.2222222222222222,\"#7201a8\"],[0.3333333333333333,\"#9c179e\"],[0.4444444444444444,\"#bd3786\"],[0.5555555555555556,\"#d8576b\"],[0.6666666666666666,\"#ed7953\"],[0.7777777777777778,\"#fb9f3a\"],[0.8888888888888888,\"#fdca26\"],[1.0,\"#f0f921\"]],\"sequentialminus\":[[0.0,\"#0d0887\"],[0.1111111111111111,\"#46039f\"],[0.2222222222222222,\"#7201a8\"],[0.3333333333333333,\"#9c179e\"],[0.4444444444444444,\"#bd3786\"],[0.5555555555555556,\"#d8576b\"],[0.6666666666666666,\"#ed7953\"],[0.7777777777777778,\"#fb9f3a\"],[0.8888888888888888,\"#fdca26\"],[1.0,\"#f0f921\"]],\"diverging\":[[0,\"#8e0152\"],[0.1,\"#c51b7d\"],[0.2,\"#de77ae\"],[0.3,\"#f1b6da\"],[0.4,\"#fde0ef\"],[0.5,\"#f7f7f7\"],[0.6,\"#e6f5d0\"],[0.7,\"#b8e186\"],[0.8,\"#7fbc41\"],[0.9,\"#4d9221\"],[1,\"#276419\"]]},\"xaxis\":{\"gridcolor\":\"white\",\"linecolor\":\"white\",\"ticks\":\"\",\"title\":{\"standoff\":15},\"zerolinecolor\":\"white\",\"automargin\":true,\"zerolinewidth\":2},\"yaxis\":{\"gridcolor\":\"white\",\"linecolor\":\"white\",\"ticks\":\"\",\"title\":{\"standoff\":15},\"zerolinecolor\":\"white\",\"automargin\":true,\"zerolinewidth\":2},\"scene\":{\"xaxis\":{\"backgroundcolor\":\"#E5ECF6\",\"gridcolor\":\"white\",\"linecolor\":\"white\",\"showbackground\":true,\"ticks\":\"\",\"zerolinecolor\":\"white\",\"gridwidth\":2},\"yaxis\":{\"backgroundcolor\":\"#E5ECF6\",\"gridcolor\":\"white\",\"linecolor\":\"white\",\"showbackground\":true,\"ticks\":\"\",\"zerolinecolor\":\"white\",\"gridwidth\":2},\"zaxis\":{\"backgroundcolor\":\"#E5ECF6\",\"gridcolor\":\"white\",\"linecolor\":\"white\",\"showbackground\":true,\"ticks\":\"\",\"zerolinecolor\":\"white\",\"gridwidth\":2}},\"shapedefaults\":{\"line\":{\"color\":\"#2a3f5f\"}},\"annotationdefaults\":{\"arrowcolor\":\"#2a3f5f\",\"arrowhead\":0,\"arrowwidth\":1},\"geo\":{\"bgcolor\":\"white\",\"landcolor\":\"#E5ECF6\",\"subunitcolor\":\"white\",\"showland\":true,\"showlakes\":true,\"lakecolor\":\"white\"},\"title\":{\"x\":0.05},\"mapbox\":{\"style\":\"light\"}}},\"xaxis\":{\"title\":{\"text\":\"$\\\\sigma_p$\"}},\"yaxis\":{\"title\":{\"text\":\"$\\\\mu_p$\"}},\"title\":{\"font\":{\"size\":30,\"color\":\"Green\"},\"text\":\"Capital Market Line\",\"x\":0.5,\"y\":0.87}},                        {\"responsive\": true}                    ).then(function(){\n",
              "                            \n",
              "var gd = document.getElementById('105f58fb-a231-4a78-a829-7cdb6ec35a32');\n",
              "var x = new MutationObserver(function (mutations, observer) {{\n",
              "        var display = window.getComputedStyle(gd).display;\n",
              "        if (!display || display === 'none') {{\n",
              "            console.log([gd, 'removed!']);\n",
              "            Plotly.purge(gd);\n",
              "            observer.disconnect();\n",
              "        }}\n",
              "}});\n",
              "\n",
              "// Listen for the removal of the full notebook cells\n",
              "var notebookContainer = gd.closest('#notebook-container');\n",
              "if (notebookContainer) {{\n",
              "    x.observe(notebookContainer, {childList: true});\n",
              "}}\n",
              "\n",
              "// Listen for the clearing of the current output cell\n",
              "var outputEl = gd.closest('.output');\n",
              "if (outputEl) {{\n",
              "    x.observe(outputEl, {childList: true});\n",
              "}}\n",
              "\n",
              "                        })                };                            </script>        </div>\n",
              "</body>\n",
              "</html>"
            ]
          },
          "metadata": {}
        }
      ]
    },
    {
      "cell_type": "markdown",
      "source": [
        "Within the CAPM world, no portfolio can be constructed that would lie ABOVE the CML line. The best we can do is to invest on that line, i.e. to invest in a combination of the market portfolio and the risk-free rate."
      ],
      "metadata": {
        "id": "mVRyRN7rhb26"
      }
    },
    {
      "cell_type": "markdown",
      "source": [
        "### <font color='MediumVioletRed' style=\"font-size:20px\"><b>More on the market portfolio</b></font>"
      ],
      "metadata": {
        "id": "jrvhWfrnhmgd"
      }
    },
    {
      "cell_type": "markdown",
      "source": [
        "In the CAPM world, all investors will choose to hold a portfolio of risky assets in proportions that\n",
        "duplicate representation of the assets in the market portfolio ( M ), which includes\n",
        "all traded assets. For simplicity, we refer to all risky assets as stocks.\n"
      ],
      "metadata": {
        "id": "W4XlAoGshnXS"
      }
    },
    {
      "cell_type": "markdown",
      "source": [
        "What is the market portfolio? When we sum over, or aggregate, the portfolios of all\n",
        "individual investors, lending and borrowing will cancel out (because each lender has a\n",
        "corresponding borrower), and **the value of the aggregate risky portfolio will equal the\n",
        "entire wealth of the economy**. This is the market portfolio, M.\n",
        "\n",
        "The **proportion of each\n",
        "stock in this portfolio equals the market value of the stock (price per share times the number\n",
        "of shares outstanding) divided by the sum of the market values of all stocks.**\n",
        "\n",
        "CML implies that as individuals attempt to optimize their personal portfolios, they\n",
        "each arrive at the same portfolio, with weights on each asset equal to those of the market\n",
        "portfolio."
      ],
      "metadata": {
        "id": "4R6v9hfdhoKx"
      }
    },
    {
      "cell_type": "markdown",
      "source": [
        "Given the assumptions of the previous section, it is easy to see that all investors\n",
        "will desire to hold **identical risky portfolios**. If all investors use identical Markowitz\n",
        "analysis (Assumption 5) applied to the same universe of securities (Assumption 3) for\n",
        "the same time horizon (Assumption 2) and use the same input list (Assumption 6), they\n",
        "all must arrive at the same composition of the optimal risky portfolio, the portfolio on\n",
        "the efficient frontier identified by the tangency line from T-bills to that frontier.\n",
        "\n",
        "This implies that if the weight of GE stock, e.g, in each common\n",
        "risky portfolio is 1%, then GE also will comprise 1% of the market portfolio. The same\n",
        "principle applies to the proportion of any stock in each investor’s risky portfolio."
      ],
      "metadata": {
        "id": "zgmf4ffehszh"
      }
    },
    {
      "cell_type": "markdown",
      "source": [
        "Suppose the optimal portfolio of our investors does not include the stock of some\n",
        "company, such as Delta Airlines.\n",
        "\n",
        "When all investors avoid Delta stock, the demand is zero and Delta’s price takes a free fall. As Delta stock gets\n",
        "progressively cheaper, it becomes ever more attractive\n",
        "and other stocks look relatively less attractive.\n",
        "\n",
        "Ultimately, Delta reaches a price where it is attractive\n",
        "enough to include in the optimal stock portfolio."
      ],
      "metadata": {
        "id": "peYR1JZpht1N"
      }
    },
    {
      "cell_type": "markdown",
      "source": [
        "**Such a price adjustment process guarantees that\n",
        "all stocks will be included in the optimal portfolio, i.e. in the market portfolio.**"
      ],
      "metadata": {
        "id": "5A47WPaJhvDj"
      }
    },
    {
      "cell_type": "markdown",
      "source": [
        "The weight of each stock in the market portfolio is determined based on\n",
        "\n",
        "$$\\alpha_i = \\frac{n_i P_i}{n_1 P_1 + n_2 P_2 + \\cdots + n_J P_J}$$\n",
        "\n",
        "where $n_i$ is the number of shares outstanding on the market, $P_i$ is price per share, and $J$ is the number of stocks on the market."
      ],
      "metadata": {
        "id": "HB6vrE-PiSed"
      }
    },
    {
      "cell_type": "markdown",
      "source": [
        "Stated in another way, the weight of stock $i$ is the market capitalization or market cap of stock $i$ relative to the market as a whole. Return on the market can be expressed through returns on individual stocks as follows"
      ],
      "metadata": {
        "id": "ko7696o4iTYz"
      }
    },
    {
      "cell_type": "markdown",
      "source": [
        "$$r_m = \\sum_{i=1}^J\\alpha_i r_i$$"
      ],
      "metadata": {
        "id": "zagT1Y07iUaP"
      }
    },
    {
      "cell_type": "markdown",
      "source": [
        "where $\\alpha_i$ are precisely the weights of the stock in the market portfolio, not just any weights. Index SP500 and many other indices (value-weighted indices) are constructed using this way using 500 US stocks with the largest market cap."
      ],
      "metadata": {
        "id": "QAkufb5siVUl"
      }
    },
    {
      "cell_type": "markdown",
      "source": [
        "### <font color='MediumVioletRed' style=\"font-size:20px\"><b>In the CAPM world passive investment is efficient</b></font>"
      ],
      "metadata": {
        "id": "3wY4Qu4AiWFJ"
      }
    },
    {
      "cell_type": "markdown",
      "source": [
        "The market portfolio held by all investors is based on the common input\n",
        "list, thereby incorporating all relevant information about the universe of securities.\n",
        "\n",
        "This\n",
        "means that **investors can skip the trouble of doing security analysis** and obtain an efficient\n",
        "portfolio simply by holding the market portfolio.\n",
        "\n",
        "Of course, if everyone were to follow\n",
        "this strategy, no one would perform security analysis and this result would no longer hold. (See **Chapter 11 of Bodie, Kane, Markus**)"
      ],
      "metadata": {
        "id": "nW8RnjibiW41"
      }
    },
    {
      "cell_type": "markdown",
      "source": [
        "Assuming that\n",
        "all investors choose to hold a market index mutual fund (say, a fund mimicking SP500), we can separate portfolio selection\n",
        "into two component.\n",
        "\n",
        "One is a technical problem - creation of mutual funds by professional\n",
        "managers. The other is a personal problem that depends on an investor’s risk aversion, allocation\n",
        "of the complete portfolio between the mutual fund and risk-free assets."
      ],
      "metadata": {
        "id": "tNKXupP-jrwa"
      }
    },
    {
      "cell_type": "markdown",
      "source": [
        "In reality, different investment managers do create risky portfolios that differ from the\n",
        "market index. We attribute this in part to the use of different input lists in the formation\n",
        "of the optimal risky portfolio. Nevertheless, the practical significance of the mutual fund\n",
        "theorem is that a passive investor may view the\n",
        "market index as a reasonable first approximation to\n",
        "an efficient risky portfolio."
      ],
      "metadata": {
        "id": "B2bWuZKxjsxM"
      }
    },
    {
      "cell_type": "markdown",
      "source": [
        "## <font color='orange' style=\"font-size:25px\"><b>The CAPM: Equilibrium expected returns on individual securities</b></font>"
      ],
      "metadata": {
        "id": "VpSqkOfSj-wr"
      }
    },
    {
      "cell_type": "markdown",
      "source": [
        "**Capital Asset Pricing Model** or CAPM is one of the most frequently used (and abused) models in finance. It provides a relationship between the excess return on a individual investment asset and the excess return on the market."
      ],
      "metadata": {
        "id": "zXt8Vs2Dj_r3"
      }
    },
    {
      "cell_type": "markdown",
      "source": [
        "The CAPM is built on the insight that the appropriate **risk premium on an asset will be\n",
        "determined by its contribution to the risk of investors’ overall portfolios**.\n",
        "\n",
        "Portfolio risk is\n",
        "what matters to investors and is what governs the risk premiums they demand."
      ],
      "metadata": {
        "id": "TyFtth70kAi7"
      }
    },
    {
      "cell_type": "markdown",
      "source": [
        "All investors use the same input list, that is, the same estimates of\n",
        "expected returns, variances, and covariances. (The above assumptions 1 to 6 hold).\n",
        "\n",
        "Covariances\n",
        "can be arranged in a covariance matrix, so that the entry in the fifth row and third column,\n",
        "for example, would be the covariance between the rates of return on the fifth and third\n",
        "securities.\n",
        "\n",
        "Each diagonal entry of the matrix is the covariance of one security’s return with\n",
        "itself, which is simply the variance of that security."
      ],
      "metadata": {
        "id": "Vcz2JBsekBXU"
      }
    },
    {
      "cell_type": "markdown",
      "source": [
        "Suppose, for example, that we want to gauge the portfolio risk contribution of GE stock. We measure\n",
        "it by its covariance\n",
        "with the market portfolio. To see why this is so, let us look again at the way the variance of\n",
        "the market portfolio is calculated."
      ],
      "metadata": {
        "id": "aNfyPF6xkCIQ"
      }
    },
    {
      "cell_type": "markdown",
      "source": [
        "Recall that we calculate the variance of the portfolio by summing over all the elements\n",
        "of the covariance matrix, first multiplying each element by the portfolio weights from the\n",
        "row and the column. The contribution of one stock to portfolio variance therefore can be\n",
        "expressed as the sum of all the covariance terms in the column corresponding to the stock, where each covariance is first multiplied by both the stock’s weight from its row and the\n",
        "weight from its column."
      ],
      "metadata": {
        "id": "_YMMsFDWkC3u"
      }
    },
    {
      "cell_type": "markdown",
      "source": [
        "\\begin{align*}\n",
        "\\sigma_m^2&\\equiv \\mathbb{V}(r_{p,\\,1})=\\sum_{j,i=1}^J \\alpha_j \\, \\sigma_{j,i} \\,\\alpha_i  \\\\\n",
        "\\end{align*}"
      ],
      "metadata": {
        "id": "FF-VeeY3kDxe"
      }
    },
    {
      "cell_type": "markdown",
      "source": [
        "Suppose we want to highlight contribution of one stock, say, GE. Suppose, further, that GE was listed as the 3rd stock in the list of stocks on the market. Its contribution would be equal to"
      ],
      "metadata": {
        "id": "KR7ZtyRXkEXS"
      }
    },
    {
      "cell_type": "markdown",
      "source": [
        "$$\\text{Risk contribution of stock 3 (GE)} = \\alpha_3 \\sum_{i=1}^J \\, \\sigma_{3,i} \\,\\alpha_i$$"
      ],
      "metadata": {
        "id": "6-vNA43UkFMS"
      }
    },
    {
      "cell_type": "markdown",
      "source": [
        "Now notice that\n",
        "\n",
        "$$\\mathbb{Cov}(r_3,r_m) =  \\mathbb{Cov}(r_3,\\sum_{i=1}^J\\alpha_i r_i) = \\sum_{i=1}^J\\mathbb{Cov}(r_3,r_i)\\alpha_i  = \\sum_{i=1}^J\\sigma_{3,i}\\alpha_i$$"
      ],
      "metadata": {
        "id": "3lOKyF6IkGKS"
      }
    },
    {
      "cell_type": "markdown",
      "source": [
        "Thus we obtain that the risk contribution to the total market risk of the stock 3 is given by"
      ],
      "metadata": {
        "id": "-97ti0RwkHIU"
      }
    },
    {
      "cell_type": "markdown",
      "source": [
        "$$\\text{Risk contribution of stock 3 (GE)} = \\alpha_3 \\mathbb{Cov}(r_3,r_m)$$"
      ],
      "metadata": {
        "id": "MS_Y1JqXkHzI"
      }
    },
    {
      "cell_type": "markdown",
      "source": [
        "and, more generally, risk contribution of stock $i$ is\n",
        "\n",
        "$$\\text{Risk contribution of stock i} = \\alpha_i \\mathbb{Cov}(r_i,r_m)$$"
      ],
      "metadata": {
        "id": "6Tdi8RXjkIkG"
      }
    },
    {
      "cell_type": "markdown",
      "source": [
        "This should not surprise us. For example, if the covariance between GE and the rest\n",
        "of the market is negative, then GE makes a “negative contribution” to portfolio risk: By\n",
        "providing returns that move in opposition with the rest of the market, GE stabilizes the return\n",
        "on the overall portfolio.\n",
        "\n",
        "If the covariance is positive, GE makes a positive contribution to\n",
        "overall portfolio risk because its returns reinforce swings in the rest of the portfolio."
      ],
      "metadata": {
        "id": "UANd-d7qkJ8m"
      }
    },
    {
      "cell_type": "markdown",
      "source": [
        "Note that the market risk premium is equal to:\n",
        "\n",
        "$$\\mathbb{E}(r_m) - r_f = \\mathbb{E}(\\sum_{i=1}^J\\alpha_i r_i) - r_f$$\n",
        "\n",
        "This can be rewritten as (taking into the account that $\\sum_{i=1}^J\\alpha_i = 1$) as follows\n",
        "\n",
        "$$\\mathbb{E}(r_m) - r_f = \\sum_{i=1}^J \\alpha_i (\\mathbb{E}( r_i) - r_f)$$.\n",
        "\n",
        "Therefore, GE's contribution to the market risk premium would be equal to $\\alpha_{3} (\\mathbb{E}(r_3) - r_f)$. As a result, rewards-to-risk contribution of the GE stock would be equal to\n",
        "\n",
        "$$\\frac{\\alpha_{3} (\\mathbb{E}(r_3) - r_f)}{\\alpha_3 \\mathbb{Cov}(r_3,r_m)}= \\frac{\\mathbb{E}(r_3) - r_f}{\\mathbb{Cov}(r_3,r_m)}$$\n"
      ],
      "metadata": {
        "id": "PJiI2dr8kLyA"
      }
    },
    {
      "cell_type": "markdown",
      "source": [
        "On the other hand, the reward-to-risk on the market portfolio is equal to\n",
        "\n",
        "$$\\frac{\\mathbb{E}(r_m) - r_f}{\\mathbb{Cov}(r_m,r_m)} = \\frac{\\mathbb{E}(r_m) - r_f}{\\sigma_m^2}$$"
      ],
      "metadata": {
        "id": "nidHdVIOkMl0"
      }
    },
    {
      "cell_type": "markdown",
      "source": [
        "This quantifies the\n",
        "extra return that investors demand to bear portfolio risk. Notice that for components of the\n",
        "efficient portfolio, such as shares of GE, we measure risk as the contribution to portfolio\n",
        "variance (which depends on its covariance with the market). In contrast, for the efficient\n",
        "portfolio itself, its variance is the appropriate measure of risk."
      ],
      "metadata": {
        "id": "jFfVp5PmkNUK"
      }
    },
    {
      "cell_type": "markdown",
      "source": [
        "Before we go on, we can ask **why did we use here square of volatility, i.e. variance and not the Sharpe ratio as above (i.e. volatility without the square)?**\n",
        "\n",
        "Note that because the appropriate risk measure of GE is its\n",
        "covariance with the market portfolio (its contribution to the variance of the market portfolio), this risk is measured\n",
        "in percent squared.\n",
        "\n",
        "So, dimensionally, we need to use variance instead of standard deviation of market return when measuring here reward to risk ratio."
      ],
      "metadata": {
        "id": "j7kaRhzhkOEB"
      }
    },
    {
      "cell_type": "markdown",
      "source": [
        "A basic principle of equilibrium is that all investments should offer the same reward-to-risk\n",
        "ratio. If the ratio were better for one investment than another, investors would rearrange\n",
        "their portfolios, tilting toward the alternative with the better trade-off and shying away\n",
        "from the other."
      ],
      "metadata": {
        "id": "mvKjGpq0kPFk"
      }
    },
    {
      "cell_type": "markdown",
      "source": [
        "Such activity would impart pressure on security prices until the ratios were\n",
        "equalized. Therefore we conclude that the reward-to-risk ratios of GE and the market portfolio\n",
        "should be equal:"
      ],
      "metadata": {
        "id": "6eEGOG7YkPz0"
      }
    },
    {
      "cell_type": "markdown",
      "source": [
        "$$\\frac{\\mathbb{E}(r_i) - r_f}{\\mathbb{Cov}(r_i,r_m)} = \\frac{\\mathbb{E}(r_m) - r_f}{\\sigma_m^2}$$"
      ],
      "metadata": {
        "id": "2ply8LMRkQeq"
      }
    },
    {
      "cell_type": "markdown",
      "source": [
        "In equilibrium, this should be true for any stock $i$. Thus, we obtain that:"
      ],
      "metadata": {
        "id": "GrGHRMb6kRTl"
      }
    },
    {
      "cell_type": "markdown",
      "source": [
        "$$\\mathbb{E}(r_i) - r_f = \\frac{\\mathbb{Cov}(r_i,r_m)}{\\sigma_m^2}(\\mathbb{E}(r_m) - r_f) \\equiv \\beta_i \\,(\\mathbb{E}(r_m) - r_f)$$"
      ],
      "metadata": {
        "id": "U5XbhwFKkShY"
      }
    },
    {
      "cell_type": "markdown",
      "source": [
        "From the last expression follows that in equilibrium (under the assumptions of the CAPM world) expected return on individual security should be equal to\n",
        "\n",
        "$$\\mathbb{E}(r_i) = r_f +\\beta_i \\,(\\mathbb{E}(r_m) - r_f)$$"
      ],
      "metadata": {
        "id": "PjlTfdqukT2w"
      }
    },
    {
      "cell_type": "markdown",
      "source": [
        "This expected return–beta relationship is the most familiar expression of the CAPM to\n",
        "practitioners. Risk premium on each asset, for each investor, is determine by two things only: market risk premium and the asset beta. Beta measures co-movement between the asset and the market.\n",
        "\n",
        "To calculate the equilibrium expected return we need to just add the benchmark risk free rate to the appropriate risk premium.\n",
        "\n",
        "We see now why the assumptions that made individuals act similarly are so useful. If\n",
        "everyone holds an identical risky portfolio, then everyone will find that the beta of each\n",
        "asset with the market portfolio equals the asset’s beta with his or her own risky portfolio.\n",
        "Hence everyone will agree on the appropriate risk premium for each asset."
      ],
      "metadata": {
        "id": "zIlJQ_ndkUvG"
      }
    },
    {
      "cell_type": "markdown",
      "source": [
        "Does the fact that few real-life investors actually hold the market portfolio imply that the\n",
        "CAPM is of no practical importance? Not necessarily. Namely, reasonably\n",
        "well-diversified portfolios shed firm-specific risk and are left with mostly systematic\n",
        "or market risk.\n",
        "\n",
        "Even if one does not hold the precise market portfolio, a well-diversified\n",
        "portfolio will be so highly correlated with the market that a stock’s beta relative to the\n",
        "market will still be a useful risk measure."
      ],
      "metadata": {
        "id": "uj_Y45u2kVpc"
      }
    },
    {
      "cell_type": "markdown",
      "source": [
        "In that case, investors would hold just a market portfolio (and perhaps a risk free asset). Thus, they would hold perfectly diversified portfolio."
      ],
      "metadata": {
        "id": "pgM9Eq-VkWf6"
      }
    },
    {
      "cell_type": "markdown",
      "source": [
        "Suppose that we add a little bit of some stock in addition to what already exists in the market portfolio. This should change portfolio risk a little. How much would the relative change of risk be?"
      ],
      "metadata": {
        "id": "Y4nnBcA9kXXl"
      }
    },
    {
      "cell_type": "markdown",
      "source": [
        "If $s$, the fraction invested in the asset $j$ is very small, relative change in risk is:"
      ],
      "metadata": {
        "id": "lV1XcVmMkYFW"
      }
    },
    {
      "cell_type": "markdown",
      "source": [
        "$$\\frac{\\mathbb{V} \\left(s\\,r_j+r_m\\right)-\\mathbb{V}(r_m)}{\\mathbb{V}(r_m)}=\\frac{\\mathbb{V} (r_m)+s^2\\,V(r_j)+2\\,s\\,\\mathbb{Cov}\\left(r_m,r_j\\right)-\\mathbb{V} (r_m)}{\\mathbb{V}(r_m)}=\\frac{s^2\\,\\mathbb{V}(r_j)+2\\,s\\,\\mathbb{Cov}\\left(r_m,r_j\\right)}{\\mathbb{V}(r_m)}$$"
      ],
      "metadata": {
        "id": "D5iFbpiIktyF"
      }
    },
    {
      "cell_type": "markdown",
      "source": [
        "If we ignore the quadratic term in $s$ (this makes sense if the fraction s is very small) the relative change in risk would be equal to:"
      ],
      "metadata": {
        "id": "Au2tyzqUkuoo"
      }
    },
    {
      "cell_type": "markdown",
      "source": [
        "$$\\frac{\\mathbb{V}\\left(s r_j+r_m\\right)-\\mathbb{V}\\left(r_m\\right)}{\\mathbb{V}\\left(r_m\\right)}=2 s \\,\\frac{\\mathbb{Cov}\\left(r_m,r_j\\right)}{\\mathbb{V}\\left(r_m\\right)}=2 s \\beta _j$$"
      ],
      "metadata": {
        "id": "MElJDYHnkvS_"
      }
    },
    {
      "cell_type": "markdown",
      "source": [
        "Thus, incremental relative change in risk of a well-diversified portfolio is proportional to beta."
      ],
      "metadata": {
        "id": "SQREfke_kwJU"
      }
    },
    {
      "cell_type": "markdown",
      "source": [
        "#### <font color='MediumPurple' style=\"font-size:16px\"><b>Relationship of $\\beta$ with correlation between the market and the asset</b></font>"
      ],
      "metadata": {
        "id": "UcG_yawKky2a"
      }
    },
    {
      "cell_type": "markdown",
      "source": [
        "**Beta of an asset** in CAPM is covariance between the market and asset return, normalized by the variance of the market return."
      ],
      "metadata": {
        "id": "e6bf2S6hkz4S"
      }
    },
    {
      "cell_type": "markdown",
      "source": [
        "Incremental risk of a well-diversified investor is determined by the beta of that asset. Beta determines how a particular asset co-moves with the market. I.e., it measures sensitivity of the asset towards changes in market conditions. It does not reflect company-specific risk."
      ],
      "metadata": {
        "id": "5izBluchk0wI"
      }
    },
    {
      "cell_type": "markdown",
      "source": [
        "If correlation between asset $j$ and market return is $\\rho_{j,\\,m}$, standard deviation on the market portfolio is $\\sigma_m$, and standard deviation on the asset $\\sigma_j$, from definition of $\\beta_j$:"
      ],
      "metadata": {
        "id": "8qiX1Fk3k2AE"
      }
    },
    {
      "cell_type": "markdown",
      "source": [
        "$$\\beta _j=\\frac{\\mathbb{Cov}\\left(r_m,r_j\\right)}{\\mathbb{V}\\left(r_m\\right)}=\\frac{\\sigma _m \\,\\sigma _j \\,\\rho _{j, m}}{\\sigma _m^2}=\\frac{\\sigma _j}{\\sigma _m}\\rho _{j, m}$$"
      ],
      "metadata": {
        "id": "TsVu1mrIk2vk"
      }
    },
    {
      "cell_type": "markdown",
      "source": [
        "Beta of an asset is proportional to the correlation coefficient between the market and that asset . Correlation is multiplied by the risk of the stock vs the market.\n",
        "\n",
        "Since correlation can be positive, negative and zero, beta can be both positive and negative. But, due to the second factor (the ratio of volatilities), beta can be both higher or smaller than 1."
      ],
      "metadata": {
        "id": "FRWSDoDmk3hW"
      }
    },
    {
      "cell_type": "markdown",
      "source": [
        "> Suppose that  the correlation between return on stock A and the market is 0.3, volatility of the stock is 0.4 and the market is 0.2. Find beta of this stock."
      ],
      "metadata": {
        "id": "-V7U7Iffk4Ve"
      }
    },
    {
      "cell_type": "code",
      "source": [
        "rho_Am = 0.3\n",
        "sigma_A = 0.4\n",
        "sigma_m= 0.2\n",
        "beta_A = rho_Am*(sigma_A/sigma_m)\n",
        "beta_A"
      ],
      "metadata": {
        "colab": {
          "base_uri": "https://localhost:8080/"
        },
        "id": "5UlgJ70uk6Bw",
        "outputId": "2fa35f0b-b9b3-4df8-f147-6863e60a1f04"
      },
      "execution_count": 7,
      "outputs": [
        {
          "output_type": "execute_result",
          "data": {
            "text/plain": [
              "0.6"
            ]
          },
          "metadata": {},
          "execution_count": 7
        }
      ]
    },
    {
      "cell_type": "markdown",
      "source": [
        "> For the same stock, calculate the expected return assuming that CAPM is valid, that risk free return is 5 percent, and the expected return on the market is 14 percent per annum."
      ],
      "metadata": {
        "id": "_qUTeVH5lKOa"
      }
    },
    {
      "cell_type": "markdown",
      "source": [
        "To calculate the expected return using CAPM we apply\n",
        "\n",
        "$$\\mathbb{E}(r_A) = r_f + \\beta_A \\,(\\mathbb{E}(r_m) - r_f)$$"
      ],
      "metadata": {
        "id": "Ubo0EYHdlNCU"
      }
    },
    {
      "cell_type": "code",
      "source": [
        "r_f = 0.05\n",
        "mu_mkt = 0.14\n",
        "mu_A = r_f + beta_A*(mu_mkt-r_f)\n",
        "mu_A"
      ],
      "metadata": {
        "colab": {
          "base_uri": "https://localhost:8080/"
        },
        "id": "i6jh4BKXlHQd",
        "outputId": "206b8b5a-a109-4e98-cb99-dbd957375907"
      },
      "execution_count": 8,
      "outputs": [
        {
          "output_type": "execute_result",
          "data": {
            "text/plain": [
              "0.10400000000000001"
            ]
          },
          "metadata": {},
          "execution_count": 8
        }
      ]
    },
    {
      "cell_type": "markdown",
      "source": [
        "Here are betas for some companies (you can find them in the summary page for each company on Yahoo! Finance (calculated based on 5 years worth of monthly data)\n",
        "\n",
        "\n",
        "\n",
        "*   IBM: 0.85\n",
        "*   Microsoft: 0.92\n",
        "*   Apple: 1.30\n",
        "*   General Motors: 1.37\n",
        "*   Tesla:  2.07\n",
        "* Alphabet: 1.09\n",
        "* Goldman Sachs: 1.42\n",
        "\n"
      ],
      "metadata": {
        "id": "3gUeS0AalYQ8"
      }
    },
    {
      "cell_type": "markdown",
      "source": [
        "#### <font color='MediumPurple' style=\"font-size:16px\"><b>Other important properties of betas</b></font>"
      ],
      "metadata": {
        "id": "jzUquIsvleeR"
      }
    },
    {
      "cell_type": "markdown",
      "source": [
        "Adding an investment with a negative beta would reduce portfolio risk. Stocks with negative beta are practically impossible to find. But, one can find ETFs that are negatively correlated with the market. These ETFs take a short position with respect to the market. Some indices such as VIX have negative correlation with the market."
      ],
      "metadata": {
        "id": "ZVzIjl1slgH_"
      }
    },
    {
      "cell_type": "markdown",
      "source": [
        "On the other hand, **beta of the riskless asset should be equal to zero**, while **beta of the market portfolio should be equal to 1** since:"
      ],
      "metadata": {
        "id": "S1BC1EXTlhoT"
      }
    },
    {
      "cell_type": "markdown",
      "source": [
        "$$\\beta _r=\\frac{\\mathbb{Cov}\\left(r_f,r_m\\right)}{\\mathbb{V}\\left(r_m\\right)}=0$$\n",
        "\n",
        "$$\\beta _j=\\frac{\\mathbb{Cov}\\left(r_m,r_m\\right)}{\\mathbb{V}\\left(r_m\\right)}=\\frac{\\mathbb{V}(r_m)}{\\mathbb{V}(r_m)}=1$$"
      ],
      "metadata": {
        "id": "HXCQ2bXIlj1k"
      }
    },
    {
      "cell_type": "markdown",
      "source": [
        "Finally, beta of a portfolio of stocks should be linear combination of constituent betas. Namely:"
      ],
      "metadata": {
        "id": "XEoP49q_llnG"
      }
    },
    {
      "cell_type": "markdown",
      "source": [
        "$$\\beta _p=\\frac{\\mathbb{Cov}\\left(r_m,\\,r_p\\right)}{\\mathbb{V}(r_m)}=\\frac{\\mathbb{Cov}\\left(r_m,\\sum_{i=1}^n w_i\\,r_i\\right)}{\\mathbb{V}(r_M)}=\\frac{\\sum_{i=1}^n w_i\\, \\mathbb{Cov}\\left(r_M, \\, r_i\\right)}{\\mathbb{V}(r_M)}=\\sum _{i=1}^n w_i\\,\\beta _i$$"
      ],
      "metadata": {
        "id": "dcoOpCS9lmvA"
      }
    },
    {
      "cell_type": "markdown",
      "source": [
        "In a well-functioning market, investors receive\n",
        "high expected returns only if they are willing to bear risk.\n",
        "Of course, investors do not directly observe or determine expected returns on securities.\n",
        "\n",
        "Rather, they observe security prices and bid those prices up or down. Expected rates of\n",
        "return are determined by the prices investors must pay compared to the cash flows those\n",
        "investments might garner."
      ],
      "metadata": {
        "id": "hROzGThqlnzO"
      }
    },
    {
      "cell_type": "markdown",
      "source": [
        "#### <font color='MediumPurple' style=\"font-size:16px\"><b>Security Market Line</b></font>"
      ],
      "metadata": {
        "id": "vOAtojiEloy0"
      }
    },
    {
      "cell_type": "markdown",
      "source": [
        "If you take all of the stocks in existence and compute their betas, you can **plot returns on stocks vs betas**. If CAPM holds, they should all going to be on the **straight line** called <font color=\"blue\">Security Market Line or SML</font>. The slope of the line is simply the risk premium on the market."
      ],
      "metadata": {
        "id": "1G3GLpyclppI"
      }
    },
    {
      "cell_type": "code",
      "source": [
        "beta = np.array([0.0,0.2,0.6,0.8,1.4])\n",
        "fig = go.Figure()\n",
        "fig.add_trace(\n",
        "    go.Scatter(\n",
        "        x=beta,\n",
        "        y=0.05+0.06*beta,\n",
        "        mode='markers+lines',\n",
        "        line_color='Red',\n",
        "        marker_color='Blue'\n",
        "    )\n",
        ")\n",
        "fig.update_layout(\n",
        "        xaxis=dict(\n",
        "            title_text=r'\\beta_i$',\n",
        "        ),\n",
        "        yaxis=dict(\n",
        "            title_text='Excess return'\n",
        "        ),\n",
        "        title=dict(\n",
        "            text= 'SML: Expected return on stock vs beta',\n",
        "            x=0.5,\n",
        "            y=0.87,\n",
        "            font=dict(\n",
        "                size=30,\n",
        "                color='Green'\n",
        "            )\n",
        "        )\n",
        ")\n",
        "\n",
        "fig.show()"
      ],
      "metadata": {
        "colab": {
          "base_uri": "https://localhost:8080/",
          "height": 542
        },
        "id": "6l3Q2hXDlWoM",
        "outputId": "4772d46c-2706-46ae-ff2e-044022b9f67b"
      },
      "execution_count": 9,
      "outputs": [
        {
          "output_type": "display_data",
          "data": {
            "text/html": [
              "<html>\n",
              "<head><meta charset=\"utf-8\" /></head>\n",
              "<body>\n",
              "    <div>            <script src=\"https://cdnjs.cloudflare.com/ajax/libs/mathjax/2.7.5/MathJax.js?config=TeX-AMS-MML_SVG\"></script><script type=\"text/javascript\">if (window.MathJax && window.MathJax.Hub && window.MathJax.Hub.Config) {window.MathJax.Hub.Config({SVG: {font: \"STIX-Web\"}});}</script>                <script type=\"text/javascript\">window.PlotlyConfig = {MathJaxConfig: 'local'};</script>\n",
              "        <script charset=\"utf-8\" src=\"https://cdn.plot.ly/plotly-2.25.2.min.js\"></script>                <div id=\"5a9808d3-70bf-432f-81e1-e924a45f8019\" class=\"plotly-graph-div\" style=\"height:525px; width:100%;\"></div>            <script type=\"text/javascript\">                                    window.PLOTLYENV=window.PLOTLYENV || {};                                    if (document.getElementById(\"5a9808d3-70bf-432f-81e1-e924a45f8019\")) {                    Plotly.newPlot(                        \"5a9808d3-70bf-432f-81e1-e924a45f8019\",                        [{\"line\":{\"color\":\"Red\"},\"marker\":{\"color\":\"Blue\"},\"mode\":\"markers+lines\",\"x\":[0.0,0.2,0.6,0.8,1.4],\"y\":[0.05,0.062,0.086,0.098,0.134],\"type\":\"scatter\"}],                        {\"template\":{\"data\":{\"histogram2dcontour\":[{\"type\":\"histogram2dcontour\",\"colorbar\":{\"outlinewidth\":0,\"ticks\":\"\"},\"colorscale\":[[0.0,\"#0d0887\"],[0.1111111111111111,\"#46039f\"],[0.2222222222222222,\"#7201a8\"],[0.3333333333333333,\"#9c179e\"],[0.4444444444444444,\"#bd3786\"],[0.5555555555555556,\"#d8576b\"],[0.6666666666666666,\"#ed7953\"],[0.7777777777777778,\"#fb9f3a\"],[0.8888888888888888,\"#fdca26\"],[1.0,\"#f0f921\"]]}],\"choropleth\":[{\"type\":\"choropleth\",\"colorbar\":{\"outlinewidth\":0,\"ticks\":\"\"}}],\"histogram2d\":[{\"type\":\"histogram2d\",\"colorbar\":{\"outlinewidth\":0,\"ticks\":\"\"},\"colorscale\":[[0.0,\"#0d0887\"],[0.1111111111111111,\"#46039f\"],[0.2222222222222222,\"#7201a8\"],[0.3333333333333333,\"#9c179e\"],[0.4444444444444444,\"#bd3786\"],[0.5555555555555556,\"#d8576b\"],[0.6666666666666666,\"#ed7953\"],[0.7777777777777778,\"#fb9f3a\"],[0.8888888888888888,\"#fdca26\"],[1.0,\"#f0f921\"]]}],\"heatmap\":[{\"type\":\"heatmap\",\"colorbar\":{\"outlinewidth\":0,\"ticks\":\"\"},\"colorscale\":[[0.0,\"#0d0887\"],[0.1111111111111111,\"#46039f\"],[0.2222222222222222,\"#7201a8\"],[0.3333333333333333,\"#9c179e\"],[0.4444444444444444,\"#bd3786\"],[0.5555555555555556,\"#d8576b\"],[0.6666666666666666,\"#ed7953\"],[0.7777777777777778,\"#fb9f3a\"],[0.8888888888888888,\"#fdca26\"],[1.0,\"#f0f921\"]]}],\"heatmapgl\":[{\"type\":\"heatmapgl\",\"colorbar\":{\"outlinewidth\":0,\"ticks\":\"\"},\"colorscale\":[[0.0,\"#0d0887\"],[0.1111111111111111,\"#46039f\"],[0.2222222222222222,\"#7201a8\"],[0.3333333333333333,\"#9c179e\"],[0.4444444444444444,\"#bd3786\"],[0.5555555555555556,\"#d8576b\"],[0.6666666666666666,\"#ed7953\"],[0.7777777777777778,\"#fb9f3a\"],[0.8888888888888888,\"#fdca26\"],[1.0,\"#f0f921\"]]}],\"contourcarpet\":[{\"type\":\"contourcarpet\",\"colorbar\":{\"outlinewidth\":0,\"ticks\":\"\"}}],\"contour\":[{\"type\":\"contour\",\"colorbar\":{\"outlinewidth\":0,\"ticks\":\"\"},\"colorscale\":[[0.0,\"#0d0887\"],[0.1111111111111111,\"#46039f\"],[0.2222222222222222,\"#7201a8\"],[0.3333333333333333,\"#9c179e\"],[0.4444444444444444,\"#bd3786\"],[0.5555555555555556,\"#d8576b\"],[0.6666666666666666,\"#ed7953\"],[0.7777777777777778,\"#fb9f3a\"],[0.8888888888888888,\"#fdca26\"],[1.0,\"#f0f921\"]]}],\"surface\":[{\"type\":\"surface\",\"colorbar\":{\"outlinewidth\":0,\"ticks\":\"\"},\"colorscale\":[[0.0,\"#0d0887\"],[0.1111111111111111,\"#46039f\"],[0.2222222222222222,\"#7201a8\"],[0.3333333333333333,\"#9c179e\"],[0.4444444444444444,\"#bd3786\"],[0.5555555555555556,\"#d8576b\"],[0.6666666666666666,\"#ed7953\"],[0.7777777777777778,\"#fb9f3a\"],[0.8888888888888888,\"#fdca26\"],[1.0,\"#f0f921\"]]}],\"mesh3d\":[{\"type\":\"mesh3d\",\"colorbar\":{\"outlinewidth\":0,\"ticks\":\"\"}}],\"scatter\":[{\"fillpattern\":{\"fillmode\":\"overlay\",\"size\":10,\"solidity\":0.2},\"type\":\"scatter\"}],\"parcoords\":[{\"type\":\"parcoords\",\"line\":{\"colorbar\":{\"outlinewidth\":0,\"ticks\":\"\"}}}],\"scatterpolargl\":[{\"type\":\"scatterpolargl\",\"marker\":{\"colorbar\":{\"outlinewidth\":0,\"ticks\":\"\"}}}],\"bar\":[{\"error_x\":{\"color\":\"#2a3f5f\"},\"error_y\":{\"color\":\"#2a3f5f\"},\"marker\":{\"line\":{\"color\":\"#E5ECF6\",\"width\":0.5},\"pattern\":{\"fillmode\":\"overlay\",\"size\":10,\"solidity\":0.2}},\"type\":\"bar\"}],\"scattergeo\":[{\"type\":\"scattergeo\",\"marker\":{\"colorbar\":{\"outlinewidth\":0,\"ticks\":\"\"}}}],\"scatterpolar\":[{\"type\":\"scatterpolar\",\"marker\":{\"colorbar\":{\"outlinewidth\":0,\"ticks\":\"\"}}}],\"histogram\":[{\"marker\":{\"pattern\":{\"fillmode\":\"overlay\",\"size\":10,\"solidity\":0.2}},\"type\":\"histogram\"}],\"scattergl\":[{\"type\":\"scattergl\",\"marker\":{\"colorbar\":{\"outlinewidth\":0,\"ticks\":\"\"}}}],\"scatter3d\":[{\"type\":\"scatter3d\",\"line\":{\"colorbar\":{\"outlinewidth\":0,\"ticks\":\"\"}},\"marker\":{\"colorbar\":{\"outlinewidth\":0,\"ticks\":\"\"}}}],\"scattermapbox\":[{\"type\":\"scattermapbox\",\"marker\":{\"colorbar\":{\"outlinewidth\":0,\"ticks\":\"\"}}}],\"scatterternary\":[{\"type\":\"scatterternary\",\"marker\":{\"colorbar\":{\"outlinewidth\":0,\"ticks\":\"\"}}}],\"scattercarpet\":[{\"type\":\"scattercarpet\",\"marker\":{\"colorbar\":{\"outlinewidth\":0,\"ticks\":\"\"}}}],\"carpet\":[{\"aaxis\":{\"endlinecolor\":\"#2a3f5f\",\"gridcolor\":\"white\",\"linecolor\":\"white\",\"minorgridcolor\":\"white\",\"startlinecolor\":\"#2a3f5f\"},\"baxis\":{\"endlinecolor\":\"#2a3f5f\",\"gridcolor\":\"white\",\"linecolor\":\"white\",\"minorgridcolor\":\"white\",\"startlinecolor\":\"#2a3f5f\"},\"type\":\"carpet\"}],\"table\":[{\"cells\":{\"fill\":{\"color\":\"#EBF0F8\"},\"line\":{\"color\":\"white\"}},\"header\":{\"fill\":{\"color\":\"#C8D4E3\"},\"line\":{\"color\":\"white\"}},\"type\":\"table\"}],\"barpolar\":[{\"marker\":{\"line\":{\"color\":\"#E5ECF6\",\"width\":0.5},\"pattern\":{\"fillmode\":\"overlay\",\"size\":10,\"solidity\":0.2}},\"type\":\"barpolar\"}],\"pie\":[{\"automargin\":true,\"type\":\"pie\"}]},\"layout\":{\"autotypenumbers\":\"strict\",\"colorway\":[\"#636efa\",\"#EF553B\",\"#00cc96\",\"#ab63fa\",\"#FFA15A\",\"#19d3f3\",\"#FF6692\",\"#B6E880\",\"#FF97FF\",\"#FECB52\"],\"font\":{\"color\":\"#2a3f5f\"},\"hovermode\":\"closest\",\"hoverlabel\":{\"align\":\"left\"},\"paper_bgcolor\":\"white\",\"plot_bgcolor\":\"#E5ECF6\",\"polar\":{\"bgcolor\":\"#E5ECF6\",\"angularaxis\":{\"gridcolor\":\"white\",\"linecolor\":\"white\",\"ticks\":\"\"},\"radialaxis\":{\"gridcolor\":\"white\",\"linecolor\":\"white\",\"ticks\":\"\"}},\"ternary\":{\"bgcolor\":\"#E5ECF6\",\"aaxis\":{\"gridcolor\":\"white\",\"linecolor\":\"white\",\"ticks\":\"\"},\"baxis\":{\"gridcolor\":\"white\",\"linecolor\":\"white\",\"ticks\":\"\"},\"caxis\":{\"gridcolor\":\"white\",\"linecolor\":\"white\",\"ticks\":\"\"}},\"coloraxis\":{\"colorbar\":{\"outlinewidth\":0,\"ticks\":\"\"}},\"colorscale\":{\"sequential\":[[0.0,\"#0d0887\"],[0.1111111111111111,\"#46039f\"],[0.2222222222222222,\"#7201a8\"],[0.3333333333333333,\"#9c179e\"],[0.4444444444444444,\"#bd3786\"],[0.5555555555555556,\"#d8576b\"],[0.6666666666666666,\"#ed7953\"],[0.7777777777777778,\"#fb9f3a\"],[0.8888888888888888,\"#fdca26\"],[1.0,\"#f0f921\"]],\"sequentialminus\":[[0.0,\"#0d0887\"],[0.1111111111111111,\"#46039f\"],[0.2222222222222222,\"#7201a8\"],[0.3333333333333333,\"#9c179e\"],[0.4444444444444444,\"#bd3786\"],[0.5555555555555556,\"#d8576b\"],[0.6666666666666666,\"#ed7953\"],[0.7777777777777778,\"#fb9f3a\"],[0.8888888888888888,\"#fdca26\"],[1.0,\"#f0f921\"]],\"diverging\":[[0,\"#8e0152\"],[0.1,\"#c51b7d\"],[0.2,\"#de77ae\"],[0.3,\"#f1b6da\"],[0.4,\"#fde0ef\"],[0.5,\"#f7f7f7\"],[0.6,\"#e6f5d0\"],[0.7,\"#b8e186\"],[0.8,\"#7fbc41\"],[0.9,\"#4d9221\"],[1,\"#276419\"]]},\"xaxis\":{\"gridcolor\":\"white\",\"linecolor\":\"white\",\"ticks\":\"\",\"title\":{\"standoff\":15},\"zerolinecolor\":\"white\",\"automargin\":true,\"zerolinewidth\":2},\"yaxis\":{\"gridcolor\":\"white\",\"linecolor\":\"white\",\"ticks\":\"\",\"title\":{\"standoff\":15},\"zerolinecolor\":\"white\",\"automargin\":true,\"zerolinewidth\":2},\"scene\":{\"xaxis\":{\"backgroundcolor\":\"#E5ECF6\",\"gridcolor\":\"white\",\"linecolor\":\"white\",\"showbackground\":true,\"ticks\":\"\",\"zerolinecolor\":\"white\",\"gridwidth\":2},\"yaxis\":{\"backgroundcolor\":\"#E5ECF6\",\"gridcolor\":\"white\",\"linecolor\":\"white\",\"showbackground\":true,\"ticks\":\"\",\"zerolinecolor\":\"white\",\"gridwidth\":2},\"zaxis\":{\"backgroundcolor\":\"#E5ECF6\",\"gridcolor\":\"white\",\"linecolor\":\"white\",\"showbackground\":true,\"ticks\":\"\",\"zerolinecolor\":\"white\",\"gridwidth\":2}},\"shapedefaults\":{\"line\":{\"color\":\"#2a3f5f\"}},\"annotationdefaults\":{\"arrowcolor\":\"#2a3f5f\",\"arrowhead\":0,\"arrowwidth\":1},\"geo\":{\"bgcolor\":\"white\",\"landcolor\":\"#E5ECF6\",\"subunitcolor\":\"white\",\"showland\":true,\"showlakes\":true,\"lakecolor\":\"white\"},\"title\":{\"x\":0.05},\"mapbox\":{\"style\":\"light\"}}},\"xaxis\":{\"title\":{\"text\":\"\\\\beta_i$\"}},\"yaxis\":{\"title\":{\"text\":\"Excess return\"}},\"title\":{\"font\":{\"size\":30,\"color\":\"Green\"},\"text\":\"SML: Expected return on stock vs beta\",\"x\":0.5,\"y\":0.87}},                        {\"responsive\": true}                    ).then(function(){\n",
              "                            \n",
              "var gd = document.getElementById('5a9808d3-70bf-432f-81e1-e924a45f8019');\n",
              "var x = new MutationObserver(function (mutations, observer) {{\n",
              "        var display = window.getComputedStyle(gd).display;\n",
              "        if (!display || display === 'none') {{\n",
              "            console.log([gd, 'removed!']);\n",
              "            Plotly.purge(gd);\n",
              "            observer.disconnect();\n",
              "        }}\n",
              "}});\n",
              "\n",
              "// Listen for the removal of the full notebook cells\n",
              "var notebookContainer = gd.closest('#notebook-container');\n",
              "if (notebookContainer) {{\n",
              "    x.observe(notebookContainer, {childList: true});\n",
              "}}\n",
              "\n",
              "// Listen for the clearing of the current output cell\n",
              "var outputEl = gd.closest('.output');\n",
              "if (outputEl) {{\n",
              "    x.observe(outputEl, {childList: true});\n",
              "}}\n",
              "\n",
              "                        })                };                            </script>        </div>\n",
              "</body>\n",
              "</html>"
            ]
          },
          "metadata": {}
        }
      ]
    },
    {
      "cell_type": "markdown",
      "source": [
        "So, according to the CAPM, all of these dots (expected returns on individual stocks) need to be on the straight line as a function of individual stock beta. This is a very bold prediction. Excess return on the asset is nothing more than a multiple of the excess return on the market. This is the simplest factor model."
      ],
      "metadata": {
        "id": "YFu4PSEomzvk"
      }
    },
    {
      "cell_type": "markdown",
      "source": [
        "We can view the expected return–beta relationship as a reward–risk equation. The beta of\n",
        "a security is the appropriate measure of its risk because beta is proportional to the risk that\n",
        "the security contributes to the optimal risky portfolio."
      ],
      "metadata": {
        "id": "kC77b7_Pm0pa"
      }
    },
    {
      "cell_type": "markdown",
      "source": [
        "The slope of the Security Market Line (SML) is equal to the risk premium on the market portfolio and the intercept is equal to the risk-free rate which corresponds to $\\beta =0$."
      ],
      "metadata": {
        "id": "FxMgqUewm1gA"
      }
    },
    {
      "cell_type": "markdown",
      "source": [
        "#### <font color='MediumPurple' style=\"font-size:16px\"><b>SML vs CML</b></font>"
      ],
      "metadata": {
        "id": "kv4ek8bXm2e-"
      }
    },
    {
      "cell_type": "markdown",
      "source": [
        "**The CML\n",
        "graphs the risk premiums of efficient portfolios (i.e., portfolios composed of the market\n",
        "and the risk-free asset) as a function of portfolio standard deviation**.\n",
        "\n",
        "This is appropriate\n",
        "because standard deviation is a valid measure of risk for efficiently diversified portfolios\n",
        "that are candidates for an investor’s overall portfolio."
      ],
      "metadata": {
        "id": "w1eRClsPm3ZG"
      }
    },
    {
      "cell_type": "markdown",
      "source": [
        "The SML graphs\n",
        "**individual asset risk premiums as a function of asset\n",
        "risk**. The relevant measure of risk for individual\n",
        "assets held as parts of well-diversified portfolios is\n",
        "not the asset’s standard deviation or variance; it is,\n",
        "instead, the contribution of the asset to the portfolio\n",
        "variance, which we measure by the asset’s beta.\n",
        "\n",
        "The\n",
        "SML is valid for both efficient portfolios and individual\n",
        "assets as long as we are assumed to live in the CAPM world."
      ],
      "metadata": {
        "id": "M4F4fWSUm5k-"
      }
    },
    {
      "cell_type": "markdown",
      "source": [
        "The security market line provides a benchmark\n",
        "for the evaluation of investment performance. Given\n",
        "the risk of an investment, as measured by its beta, the\n",
        "SML provides the required rate of return necessary\n",
        "to compensate investors for risk as well as the time\n",
        "value of money."
      ],
      "metadata": {
        "id": "zcw1parhm6Yf"
      }
    },
    {
      "cell_type": "markdown",
      "source": [
        "Because the security market line is the graphic\n",
        "representation of the expected return–beta relationship,\n",
        "**“fairly priced” assets plot exactly on the\n",
        "SML**.\n",
        "\n",
        "Their expected returns are commensurate\n",
        "with their risk. Given the CAPM assumptions above, all securities must\n",
        "lie on the SML in market equilibrium.\n",
        "\n",
        "Nevertheless,\n",
        "we see here how the CAPM may be of use in the money-management industry. Suppose that the SML relation is used as a benchmark\n",
        "to assess the fair expected return on a risky asset."
      ],
      "metadata": {
        "id": "_7Z69HQwm7Me"
      }
    },
    {
      "cell_type": "markdown",
      "source": [
        "Then security analysis is performed\n",
        "to calculate the return actually expected. (Notice that we depart here from the simple\n",
        "CAPM world in that some investors now apply their own unique analysis to derive an\n",
        "“input list” that may differ from their competitors’.)"
      ],
      "metadata": {
        "id": "RfGhBKRlm8Av"
      }
    },
    {
      "cell_type": "markdown",
      "source": [
        "If a stock is perceived to be a good\n",
        "buy, or underpriced, it will provide an expected return in excess of the fair return stipulated\n",
        "by the SML.\n",
        "\n",
        "Underpriced stocks therefore plot above the SML: Given their betas,\n",
        "their expected returns are greater than dictated by the CAPM. Overpriced stocks plot below the SML."
      ],
      "metadata": {
        "id": "96BYa64qnJk-"
      }
    },
    {
      "cell_type": "markdown",
      "source": [
        "The difference between the fair and actually expected rates of return on a stock is called\n",
        "the stock’s alpha, denoted by $\\alpha$."
      ],
      "metadata": {
        "id": "68C6e5d-nKZl"
      }
    },
    {
      "cell_type": "markdown",
      "source": [
        "> Suppose we consider the same example as above (stock A). We have seen that the equilibrium expected return (or CAPM return) would be 10.4 percent. Suppose our security analysis indicates that the actual expected return is 12 percent. The alpha would be"
      ],
      "metadata": {
        "id": "9Cha9tBmnLS8"
      }
    },
    {
      "cell_type": "code",
      "source": [
        "0.12-0.104"
      ],
      "metadata": {
        "colab": {
          "base_uri": "https://localhost:8080/"
        },
        "id": "68ZsqPIhnMGG",
        "outputId": "ef4a9564-c6c9-4be5-ae5f-b9fcc03bad6e"
      },
      "execution_count": 10,
      "outputs": [
        {
          "output_type": "execute_result",
          "data": {
            "text/plain": [
              "0.016"
            ]
          },
          "metadata": {},
          "execution_count": 10
        }
      ]
    },
    {
      "cell_type": "markdown",
      "source": [
        "I.e. 1.6 percents. This stock would in this case be underpriced and we could consider buying it."
      ],
      "metadata": {
        "id": "F0xsmeEmnP3c"
      }
    },
    {
      "cell_type": "markdown",
      "source": [
        "#### <font color='MediumPurple' style=\"font-size:16px\"><b>CAPM and stock valuation</b></font>"
      ],
      "metadata": {
        "id": "HJXr1C5PnX6c"
      }
    },
    {
      "cell_type": "markdown",
      "source": [
        "CAPM is the method of choice in financial analysis to calculate cost of equity of financial assets, especially stocks, i.e. equilibrium discount factor. Assuming the validity of the Gordon growth model (starting next year, dividends grow at costant and known rate $g$), share price is equal to\n",
        "\n",
        "$$P_0 =\\sum_{t=1}^{\\infty}\\frac{\\mathbb{E}(div_t)}{(1+\\mathbb{E}(r_s))^t} = \\frac{\\mathbb{E}(div_1)}{\\mathbb{E}(r_s) - g}$$\n",
        "\n",
        "\n",
        "where in the numerator we have the expected dividend next year, while in the denominator is the difference between the cost of equity (expected return on equity) and expected dividends growth rate.\n",
        "\n",
        "Note that this formula is using the NPV calculation based on natural, not risk neutral, probabilities and, therefore uses discounting of the expected dividends (future cash flows) using the cost of equity, not just the risk-free rate.\n",
        "\n",
        "Suppose we know that expected dividend next year is 3 dollars per share and the estimated growth rate is 5 percent per annum. I.e."
      ],
      "metadata": {
        "id": "-cnaqxZgnY1W"
      }
    },
    {
      "cell_type": "code",
      "source": [
        "div_1 = 3 #expected dividend at year 1\n",
        "g = 0.05 #dividend growth rate"
      ],
      "metadata": {
        "id": "uCBRlhT3nZtR"
      },
      "execution_count": 11,
      "outputs": []
    },
    {
      "cell_type": "markdown",
      "source": [
        "Suppose that the analysts (or your own analysis) predicts that beta of this firm's equity is 1.3.\n",
        "\n",
        "Finally, market risk premium (excess return on the market) is 6 percent per annum while the risk-free rate is 2 percent per annum. Find the cost of equity using CAPM and equilibrium (fundamental) value of share for this company."
      ],
      "metadata": {
        "id": "v5LCCMJgng2b"
      }
    },
    {
      "cell_type": "code",
      "source": [
        "r_f = 0.02\n",
        "mkt_risk_premium=0.06\n",
        "beta=1.3\n",
        "cost_of_equity = r_f + beta*mkt_risk_premium #Calculating cost of equity using CAPM\n",
        "cost_of_equity"
      ],
      "metadata": {
        "colab": {
          "base_uri": "https://localhost:8080/"
        },
        "id": "M_-h2IXlniCd",
        "outputId": "14738a5a-db22-4789-c020-82ba9a32ccfb"
      },
      "execution_count": 12,
      "outputs": [
        {
          "output_type": "execute_result",
          "data": {
            "text/plain": [
              "0.098"
            ]
          },
          "metadata": {},
          "execution_count": 12
        }
      ]
    },
    {
      "cell_type": "markdown",
      "source": [
        "i.e. cost of equity should be around 10 percent per annum (this is our estimate of the expected return on stocks using CAPM). Using Gordon growth model for equity valuation we obtain that"
      ],
      "metadata": {
        "id": "IqgQk00ZnyiA"
      }
    },
    {
      "cell_type": "code",
      "source": [
        "P = div_1/(cost_of_equity-g)\n",
        "P"
      ],
      "metadata": {
        "colab": {
          "base_uri": "https://localhost:8080/"
        },
        "id": "lS5dUhuOn0Yp",
        "outputId": "f2d98430-0e2d-4a3e-89bc-94b6885ceefd"
      },
      "execution_count": 13,
      "outputs": [
        {
          "output_type": "execute_result",
          "data": {
            "text/plain": [
              "62.5"
            ]
          },
          "metadata": {},
          "execution_count": 13
        }
      ]
    },
    {
      "cell_type": "code",
      "source": [
        "g=0.025\n",
        "P=div_1/(cost_of_equity-g)\n",
        "P"
      ],
      "metadata": {
        "colab": {
          "base_uri": "https://localhost:8080/"
        },
        "id": "wnfVLycLn_Wi",
        "outputId": "51f0fc07-289a-4c3d-ea7a-a742816f6f5c"
      },
      "execution_count": 14,
      "outputs": [
        {
          "output_type": "execute_result",
          "data": {
            "text/plain": [
              "41.0958904109589"
            ]
          },
          "metadata": {},
          "execution_count": 14
        }
      ]
    },
    {
      "cell_type": "markdown",
      "source": [
        "Thus, equilibrium share price is 62.5 USD per share."
      ],
      "metadata": {
        "id": "AcWhVa1coHDk"
      }
    },
    {
      "cell_type": "markdown",
      "source": [
        "#### <font color='Blue' style=\"font-size:16px\"><b>If we have time: Derivation of the Gordon Growth Formula</b></font>"
      ],
      "metadata": {
        "id": "hG1Gr9qroO91"
      }
    },
    {
      "cell_type": "markdown",
      "source": [
        "Based on constant growth rate assumption, NPV of a share price is equal to the sum of growth perpetuity which is, in turn, the sum of a geometric progression, provided that the convergence condition is satisfied."
      ],
      "metadata": {
        "id": "0pl6rhuQoPvv"
      }
    },
    {
      "cell_type": "markdown",
      "source": [
        "$$P_0 =\\sum_{t=1}^{\\infty}\\frac{\\mathbb{E}(div_t)}{(1+\\mathbb{E}(r_s))^t} = \\frac{\\mathbb{E}(div_1)}{\\mathbb{E}(r_s) - g}$$\n",
        "\n",
        "If we assume that each year, starting from year 1, expected dividends growth by the factor of $g$ we would have:\n",
        "\n",
        "$$\\mathbb{E}(div_t) = \\mathbb{E}(div_1)(1+g)^{t-1}, \\, \\, \\,t=2,3, \\cdots $$\n"
      ],
      "metadata": {
        "id": "P6RnTWgCoQfO"
      }
    },
    {
      "cell_type": "markdown",
      "source": [
        "Note that $f \\equiv \\frac{1+g}{1+E(r_s)} < 1$ provided that the cost of capital is higher than the dividend growth. Mathematically, this assumption ensures the convergence of the series and it leads to:"
      ],
      "metadata": {
        "id": "ZgxNTdWnoR2Z"
      }
    },
    {
      "cell_type": "markdown",
      "source": [
        "$$P_0 = \\frac{\\mathbb{E}(div_1)}{(1+\\mathbb{E}(r_s))} \\sum_{t=0}^{\\infty} \\left(\\frac{1+g}{1+E(r_s)}\\right)^t= \\frac{\\mathbb{E}(div_1)}{(1+\\mathbb{E}(r_s))} \\sum_{t=0}^{\\infty} f^t $$"
      ],
      "metadata": {
        "id": "HcfeU0vSoSqR"
      }
    },
    {
      "cell_type": "markdown",
      "source": [
        "Note that the sum of the geometric progression with rate $f<1$ is equal to\n",
        "\n",
        "$$\\sum_{t=0}^{\\infty} f^t = \\frac{1}{1-f}$$"
      ],
      "metadata": {
        "id": "pk92vdOroTSy"
      }
    },
    {
      "cell_type": "markdown",
      "source": [
        "Substituting the expression for $f$ and simplifying we obtain that:"
      ],
      "metadata": {
        "id": "JlOzmy_moUAr"
      }
    },
    {
      "cell_type": "markdown",
      "source": [
        "$$P_0 = \\frac{\\mathbb{E}(div_1)}{(1+\\mathbb{E}(r_s))} \\frac{1}{1-f} = \\frac{\\mathbb{E}(div_1)}{(1+\\mathbb{E}(r_s))} \\frac{1}{1-\\frac{1+g}{1+E(r_s)}} =  \\frac{\\mathbb{E}(div_1)}{\\mathbb{E}(r_s) - g}$$"
      ],
      "metadata": {
        "id": "CUZjlefboUyH"
      }
    },
    {
      "cell_type": "markdown",
      "source": [
        "#### <font color='MediumPurple' style=\"font-size:16px\"><b>CAPM, WACC and company valuation</b></font>"
      ],
      "metadata": {
        "id": "xR9OE6JuoWJ9"
      }
    },
    {
      "cell_type": "markdown",
      "source": [
        "Company valuation can be performed in many different ways. One way is to project cash flows generated by company into the future (in aggregate) and then discount them by something called WACC (weighted average cost of capital). This is a very important concept.\n",
        "\n",
        "Different securities have different systemic risk exposure and, therefore, different risk premia. Equity is risky and thus equity holders require rather high returns. Bond holders are protected (they get their money before the shareholders). Thus, the cost of debt is typically less (unless debt is risky, when company has overextended itself and borrowed too much).\n",
        "\n",
        "Furthermore, interest payments are considered as cost of doing business (but dividends are not). Thus, there is a tax advantage of holding debt.\n",
        "\n",
        "We can think of the firm as a portfolio of assets, each of them with their own expected returns. WACC is the expected return on the portfolio of firm funds."
      ],
      "metadata": {
        "id": "A_nsewHAoXiI"
      }
    },
    {
      "cell_type": "markdown",
      "source": [
        "![wacc.jpg](data:image/jpeg;base64,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)"
      ],
      "metadata": {
        "id": "83h49pORoYmv"
      }
    },
    {
      "cell_type": "markdown",
      "source": [
        "Suppose our company is funded partially with debt and partially with equity. Suppose, further, that beta of debt is $\\beta_d$ is smaller than beta of equity $\\beta_e$. Fraction of debt $D$ to total asset value is $\\alpha = \\frac{D}{D+E}$. It tells us what is the fraction of company operations funded by debt (the rest is equity funding).\n",
        "\n",
        "Corporate debt interest payments are tax deductible, which reduces the effective cost of debt. If corporate tax rate is $\\tau$, we obtain\n",
        "\n",
        "$$WACC = \\alpha \\,(1 -\\tau) \\, \\mathbb{E}(r_d) + (1-\\alpha ) \\,\\mathbb{E}(r_e)$$\n",
        "\n"
      ],
      "metadata": {
        "id": "t64wGEeLoaHM"
      }
    },
    {
      "cell_type": "markdown",
      "source": [
        "Suppose that"
      ],
      "metadata": {
        "id": "zTipp4vIobGD"
      }
    },
    {
      "cell_type": "code",
      "source": [
        "tau = 0.35 #tax rate\n",
        "alpha = 0.6 #Fraction of company funded by debt\n",
        "r_f =0.02\n",
        "beta_d = 0.2\n",
        "beta_e=1.3\n",
        "mkt_risk_premium =0.06"
      ],
      "metadata": {
        "id": "GSXEstoGoY5-"
      },
      "execution_count": 15,
      "outputs": []
    },
    {
      "cell_type": "markdown",
      "source": [
        "Let us calculate first cost of equity and cost of debt"
      ],
      "metadata": {
        "id": "7Mh_L77aorSi"
      }
    },
    {
      "cell_type": "code",
      "source": [
        "cost_of_equity = r_f + beta_e*mkt_risk_premium\n",
        "cost_of_debt = r_f + beta_d*mkt_risk_premium\n",
        "cost_of_equity, cost_of_debt"
      ],
      "metadata": {
        "colab": {
          "base_uri": "https://localhost:8080/"
        },
        "id": "BXmNFx38orwc",
        "outputId": "98a571d7-ca24-43cd-d196-eebe85a80e32"
      },
      "execution_count": 16,
      "outputs": [
        {
          "output_type": "execute_result",
          "data": {
            "text/plain": [
              "(0.098, 0.032)"
            ]
          },
          "metadata": {},
          "execution_count": 16
        }
      ]
    },
    {
      "cell_type": "markdown",
      "source": [
        "Weighted average cost of capital is, therefore, equal to"
      ],
      "metadata": {
        "id": "yYxkmDCspByO"
      }
    },
    {
      "cell_type": "code",
      "source": [
        "WACC = (1-tau)*alpha*cost_of_debt + (1-alpha)*cost_of_equity\n",
        "WACC"
      ],
      "metadata": {
        "colab": {
          "base_uri": "https://localhost:8080/"
        },
        "id": "EWMdYjkio_y_",
        "outputId": "9e771dbc-f834-4565-b3f7-eddaf92cf25b"
      },
      "execution_count": 17,
      "outputs": [
        {
          "output_type": "execute_result",
          "data": {
            "text/plain": [
              "0.051680000000000004"
            ]
          },
          "metadata": {},
          "execution_count": 17
        }
      ]
    },
    {
      "cell_type": "markdown",
      "source": [
        "Assuming some values for next year cash flow and annual cash flow growth rate company value would be 3.8 million dollars."
      ],
      "metadata": {
        "id": "2F9q-NTfpLim"
      }
    },
    {
      "cell_type": "code",
      "source": [
        "cf_1=3.8\n",
        "g=0.02\n",
        "V = cf_1/(WACC-g)\n",
        "V"
      ],
      "metadata": {
        "colab": {
          "base_uri": "https://localhost:8080/"
        },
        "id": "HHdE_LbGpMP5",
        "outputId": "d66ddbb4-7328-4e36-bebd-def2158c816d"
      },
      "execution_count": 18,
      "outputs": [
        {
          "output_type": "execute_result",
          "data": {
            "text/plain": [
              "119.94949494949495"
            ]
          },
          "metadata": {},
          "execution_count": 18
        }
      ]
    },
    {
      "cell_type": "markdown",
      "source": [
        "Thus, it would be around 120 million dollars"
      ],
      "metadata": {
        "id": "IunqwEFypU-1"
      }
    },
    {
      "cell_type": "markdown",
      "source": [
        "#### <font color='MediumPurple' style=\"font-size:16px\"><b>Systematic vs company-specific risk</b></font>"
      ],
      "metadata": {
        "id": "wqOfHE0ApWqx"
      }
    },
    {
      "cell_type": "markdown",
      "source": [
        "Recall that:"
      ],
      "metadata": {
        "id": "6YMKGCtNpXbT"
      }
    },
    {
      "cell_type": "markdown",
      "source": [
        "$$\\mathbb{E}(r_i) = r_f + \\beta_i \\mathbb{E}(r_m - r_f)$$"
      ],
      "metadata": {
        "id": "UABuAuRumOXX"
      }
    },
    {
      "cell_type": "markdown",
      "source": [
        "Testing this relationship empirically amounts to performing the following linear regression:"
      ],
      "metadata": {
        "id": "Fx-g0CxvmO_r"
      }
    },
    {
      "cell_type": "markdown",
      "source": [
        "$$r_i - r_f = \\beta_i (r_m - r_f) + \\varepsilon_i$$"
      ],
      "metadata": {
        "id": "OSaNWO0MmP87"
      }
    },
    {
      "cell_type": "markdown",
      "source": [
        "Risk of any stock has the **systematic risk** component (i.e. component related to the co-movement with the market, measured by $\\beta_j$) and **specific risk**  component (variance of $\\varepsilon_i$)."
      ],
      "metadata": {
        "id": "ovFkAIxImQ9A"
      }
    },
    {
      "cell_type": "markdown",
      "source": [
        "Namely, taking the variance of both sides of the equation\n",
        "\n",
        "$$\\mathbb{V}(r_i - r_f) = \\mathbb{V}(\\beta_i (r_m - r_f) + \\varepsilon_i)$$\n",
        "\n",
        "Since $r_f$ is assumed to be riskless,\n",
        "\n",
        "$$\\mathbb{V}(r_i - r_f) =\\mathbb{V}(r_i)$$"
      ],
      "metadata": {
        "id": "mNHrdyVBmRpP"
      }
    },
    {
      "cell_type": "markdown",
      "source": [
        "On the other hand (the error terms are always assumed to be uncorrelated with the regressor)\n",
        "\n",
        "$$\\mathbb{V}(\\beta_i (r_m - r_f) + \\varepsilon_i) = \\beta_i^2 \\mathbb{V}(r_m) + \\mathbb{V}(\\varepsilon_i)$$\n",
        "\n",
        "Finally, we obtain that\n",
        "\n",
        "$$\\mathbb{V}(r_i) = \\beta_i^2 \\mathbb{V}(r_m) + \\mathbb{V}(\\varepsilon_i) =\\text{Systematic Risk } + \\text{Company Specific Risk}$$"
      ],
      "metadata": {
        "id": "MkJHPdyWmSty"
      }
    },
    {
      "cell_type": "markdown",
      "source": [
        "#### <font color='MediumPurple' style=\"font-size:16px\"><b>Using CAPM to determine input (expected returns) for portfolio optimization</b></font>"
      ],
      "metadata": {
        "id": "v1LaS3C1mTnb"
      }
    },
    {
      "cell_type": "markdown",
      "source": [
        "In Lecture 3 we used sample mean to perform Mean-Variance portfolio optimization. In particular, for the stocks that we have used in that example, we wanted to determine optimal portfolio when the target rate 15% annually. Let us repeat the same procedure here."
      ],
      "metadata": {
        "id": "uPOk1uqKmUno"
      }
    },
    {
      "cell_type": "markdown",
      "source": [
        "First, upload and import the first sheet from \"optimization.xlsx\". After that compute returns from prices (but before that eliminate risk-free rate since it is already computed)."
      ],
      "metadata": {
        "id": "XFVi88YqmWGG"
      }
    },
    {
      "cell_type": "code",
      "source": [
        "prices=pd.read_excel('optimization.xlsx',sheet_name='Sheet1',index_col=\"DATE\")\n",
        "ret=prices.drop('rf',axis=1).pct_change().dropna()\n",
        "ret.head()"
      ],
      "metadata": {
        "colab": {
          "base_uri": "https://localhost:8080/",
          "height": 238
        },
        "id": "3CO4N46QmY39",
        "outputId": "f2a50f8b-a941-4dc0-fd2e-51ea759a4a35"
      },
      "execution_count": 19,
      "outputs": [
        {
          "output_type": "execute_result",
          "data": {
            "text/plain": [
              "              AMZN      MSFT       IBM      AAPL     ^GSPC\n",
              "DATE                                                      \n",
              "2013-1-3  0.004547 -0.013396 -0.005500 -0.012630 -0.002086\n",
              "2013-1-4  0.002592 -0.018716 -0.006555 -0.027848  0.004865\n",
              "2013-1-7  0.035921 -0.001870 -0.004382 -0.005882 -0.003123\n",
              "2013-1-8 -0.007744 -0.005245 -0.001398  0.002691 -0.003242\n",
              "2013-1-9 -0.000113  0.005650 -0.002852 -0.015629  0.002656"
            ],
            "text/html": [
              "\n",
              "  <div id=\"df-263c396f-3804-4041-b2df-bf68a06379d1\" class=\"colab-df-container\">\n",
              "    <div>\n",
              "<style scoped>\n",
              "    .dataframe tbody tr th:only-of-type {\n",
              "        vertical-align: middle;\n",
              "    }\n",
              "\n",
              "    .dataframe tbody tr th {\n",
              "        vertical-align: top;\n",
              "    }\n",
              "\n",
              "    .dataframe thead th {\n",
              "        text-align: right;\n",
              "    }\n",
              "</style>\n",
              "<table border=\"1\" class=\"dataframe\">\n",
              "  <thead>\n",
              "    <tr style=\"text-align: right;\">\n",
              "      <th></th>\n",
              "      <th>AMZN</th>\n",
              "      <th>MSFT</th>\n",
              "      <th>IBM</th>\n",
              "      <th>AAPL</th>\n",
              "      <th>^GSPC</th>\n",
              "    </tr>\n",
              "    <tr>\n",
              "      <th>DATE</th>\n",
              "      <th></th>\n",
              "      <th></th>\n",
              "      <th></th>\n",
              "      <th></th>\n",
              "      <th></th>\n",
              "    </tr>\n",
              "  </thead>\n",
              "  <tbody>\n",
              "    <tr>\n",
              "      <th>2013-1-3</th>\n",
              "      <td>0.004547</td>\n",
              "      <td>-0.013396</td>\n",
              "      <td>-0.005500</td>\n",
              "      <td>-0.012630</td>\n",
              "      <td>-0.002086</td>\n",
              "    </tr>\n",
              "    <tr>\n",
              "      <th>2013-1-4</th>\n",
              "      <td>0.002592</td>\n",
              "      <td>-0.018716</td>\n",
              "      <td>-0.006555</td>\n",
              "      <td>-0.027848</td>\n",
              "      <td>0.004865</td>\n",
              "    </tr>\n",
              "    <tr>\n",
              "      <th>2013-1-7</th>\n",
              "      <td>0.035921</td>\n",
              "      <td>-0.001870</td>\n",
              "      <td>-0.004382</td>\n",
              "      <td>-0.005882</td>\n",
              "      <td>-0.003123</td>\n",
              "    </tr>\n",
              "    <tr>\n",
              "      <th>2013-1-8</th>\n",
              "      <td>-0.007744</td>\n",
              "      <td>-0.005245</td>\n",
              "      <td>-0.001398</td>\n",
              "      <td>0.002691</td>\n",
              "      <td>-0.003242</td>\n",
              "    </tr>\n",
              "    <tr>\n",
              "      <th>2013-1-9</th>\n",
              "      <td>-0.000113</td>\n",
              "      <td>0.005650</td>\n",
              "      <td>-0.002852</td>\n",
              "      <td>-0.015629</td>\n",
              "      <td>0.002656</td>\n",
              "    </tr>\n",
              "  </tbody>\n",
              "</table>\n",
              "</div>\n",
              "    <div class=\"colab-df-buttons\">\n",
              "\n",
              "  <div class=\"colab-df-container\">\n",
              "    <button class=\"colab-df-convert\" onclick=\"convertToInteractive('df-263c396f-3804-4041-b2df-bf68a06379d1')\"\n",
              "            title=\"Convert this dataframe to an interactive table.\"\n",
              "            style=\"display:none;\">\n",
              "\n",
              "  <svg xmlns=\"http://www.w3.org/2000/svg\" height=\"24px\" viewBox=\"0 -960 960 960\">\n",
              "    <path d=\"M120-120v-720h720v720H120Zm60-500h600v-160H180v160Zm220 220h160v-160H400v160Zm0 220h160v-160H400v160ZM180-400h160v-160H180v160Zm440 0h160v-160H620v160ZM180-180h160v-160H180v160Zm440 0h160v-160H620v160Z\"/>\n",
              "  </svg>\n",
              "    </button>\n",
              "\n",
              "  <style>\n",
              "    .colab-df-container {\n",
              "      display:flex;\n",
              "      gap: 12px;\n",
              "    }\n",
              "\n",
              "    .colab-df-convert {\n",
              "      background-color: #E8F0FE;\n",
              "      border: none;\n",
              "      border-radius: 50%;\n",
              "      cursor: pointer;\n",
              "      display: none;\n",
              "      fill: #1967D2;\n",
              "      height: 32px;\n",
              "      padding: 0 0 0 0;\n",
              "      width: 32px;\n",
              "    }\n",
              "\n",
              "    .colab-df-convert:hover {\n",
              "      background-color: #E2EBFA;\n",
              "      box-shadow: 0px 1px 2px rgba(60, 64, 67, 0.3), 0px 1px 3px 1px rgba(60, 64, 67, 0.15);\n",
              "      fill: #174EA6;\n",
              "    }\n",
              "\n",
              "    .colab-df-buttons div {\n",
              "      margin-bottom: 4px;\n",
              "    }\n",
              "\n",
              "    [theme=dark] .colab-df-convert {\n",
              "      background-color: #3B4455;\n",
              "      fill: #D2E3FC;\n",
              "    }\n",
              "\n",
              "    [theme=dark] .colab-df-convert:hover {\n",
              "      background-color: #434B5C;\n",
              "      box-shadow: 0px 1px 3px 1px rgba(0, 0, 0, 0.15);\n",
              "      filter: drop-shadow(0px 1px 2px rgba(0, 0, 0, 0.3));\n",
              "      fill: #FFFFFF;\n",
              "    }\n",
              "  </style>\n",
              "\n",
              "    <script>\n",
              "      const buttonEl =\n",
              "        document.querySelector('#df-263c396f-3804-4041-b2df-bf68a06379d1 button.colab-df-convert');\n",
              "      buttonEl.style.display =\n",
              "        google.colab.kernel.accessAllowed ? 'block' : 'none';\n",
              "\n",
              "      async function convertToInteractive(key) {\n",
              "        const element = document.querySelector('#df-263c396f-3804-4041-b2df-bf68a06379d1');\n",
              "        const dataTable =\n",
              "          await google.colab.kernel.invokeFunction('convertToInteractive',\n",
              "                                                    [key], {});\n",
              "        if (!dataTable) return;\n",
              "\n",
              "        const docLinkHtml = 'Like what you see? Visit the ' +\n",
              "          '<a target=\"_blank\" href=https://colab.research.google.com/notebooks/data_table.ipynb>data table notebook</a>'\n",
              "          + ' to learn more about interactive tables.';\n",
              "        element.innerHTML = '';\n",
              "        dataTable['output_type'] = 'display_data';\n",
              "        await google.colab.output.renderOutput(dataTable, element);\n",
              "        const docLink = document.createElement('div');\n",
              "        docLink.innerHTML = docLinkHtml;\n",
              "        element.appendChild(docLink);\n",
              "      }\n",
              "    </script>\n",
              "  </div>\n",
              "\n",
              "\n",
              "<div id=\"df-6c59da72-aeca-440a-b7bc-27f8da97745b\">\n",
              "  <button class=\"colab-df-quickchart\" onclick=\"quickchart('df-6c59da72-aeca-440a-b7bc-27f8da97745b')\"\n",
              "            title=\"Suggest charts.\"\n",
              "            style=\"display:none;\">\n",
              "\n",
              "<svg xmlns=\"http://www.w3.org/2000/svg\" height=\"24px\"viewBox=\"0 0 24 24\"\n",
              "     width=\"24px\">\n",
              "    <g>\n",
              "        <path d=\"M19 3H5c-1.1 0-2 .9-2 2v14c0 1.1.9 2 2 2h14c1.1 0 2-.9 2-2V5c0-1.1-.9-2-2-2zM9 17H7v-7h2v7zm4 0h-2V7h2v10zm4 0h-2v-4h2v4z\"/>\n",
              "    </g>\n",
              "</svg>\n",
              "  </button>\n",
              "\n",
              "<style>\n",
              "  .colab-df-quickchart {\n",
              "    background-color: #E8F0FE;\n",
              "    border: none;\n",
              "    border-radius: 50%;\n",
              "    cursor: pointer;\n",
              "    display: none;\n",
              "    fill: #1967D2;\n",
              "    height: 32px;\n",
              "    padding: 0 0 0 0;\n",
              "    width: 32px;\n",
              "  }\n",
              "\n",
              "  .colab-df-quickchart:hover {\n",
              "    background-color: #E2EBFA;\n",
              "    box-shadow: 0px 1px 2px rgba(60, 64, 67, 0.3), 0px 1px 3px 1px rgba(60, 64, 67, 0.15);\n",
              "    fill: #174EA6;\n",
              "  }\n",
              "\n",
              "  [theme=dark] .colab-df-quickchart {\n",
              "    background-color: #3B4455;\n",
              "    fill: #D2E3FC;\n",
              "  }\n",
              "\n",
              "  [theme=dark] .colab-df-quickchart:hover {\n",
              "    background-color: #434B5C;\n",
              "    box-shadow: 0px 1px 3px 1px rgba(0, 0, 0, 0.15);\n",
              "    filter: drop-shadow(0px 1px 2px rgba(0, 0, 0, 0.3));\n",
              "    fill: #FFFFFF;\n",
              "  }\n",
              "</style>\n",
              "\n",
              "  <script>\n",
              "    async function quickchart(key) {\n",
              "      const charts = await google.colab.kernel.invokeFunction(\n",
              "          'suggestCharts', [key], {});\n",
              "    }\n",
              "    (() => {\n",
              "      let quickchartButtonEl =\n",
              "        document.querySelector('#df-6c59da72-aeca-440a-b7bc-27f8da97745b button');\n",
              "      quickchartButtonEl.style.display =\n",
              "        google.colab.kernel.accessAllowed ? 'block' : 'none';\n",
              "    })();\n",
              "  </script>\n",
              "</div>\n",
              "    </div>\n",
              "  </div>\n"
            ]
          },
          "metadata": {},
          "execution_count": 19
        }
      ]
    },
    {
      "cell_type": "markdown",
      "source": [
        "Since it is convenient to have one dataset with stock returns only, let us creating it by dropping column with S&P500 returns from previously obtained <font color='DodgerBlue'><b>pd.DataFrame</b></font>."
      ],
      "metadata": {
        "id": "QCyv6rh4m2Is"
      }
    },
    {
      "cell_type": "code",
      "source": [
        "ret_stock=ret.drop('^GSPC',axis=1)"
      ],
      "metadata": {
        "id": "WsnRvXusmyBz"
      },
      "execution_count": 20,
      "outputs": []
    },
    {
      "cell_type": "markdown",
      "source": [
        "Expected returns on stocks using the arithmetic means method would be"
      ],
      "metadata": {
        "id": "B3LGA5qVm-EU"
      }
    },
    {
      "cell_type": "code",
      "source": [
        "qt.expRet(ret_stock) #Annualized expected return using arithmetic mean of daily returns"
      ],
      "metadata": {
        "colab": {
          "base_uri": "https://localhost:8080/"
        },
        "id": "x7TmU_yVm8u6",
        "outputId": "1b7855ee-ca80-484d-ef9d-acfcfb2a8faf"
      },
      "execution_count": 21,
      "outputs": [
        {
          "output_type": "execute_result",
          "data": {
            "text/plain": [
              "AMZN    0.138659\n",
              "MSFT    0.285000\n",
              "IBM    -0.085088\n",
              "AAPL    0.203447\n",
              "dtype: float64"
            ]
          },
          "metadata": {},
          "execution_count": 21
        }
      ]
    },
    {
      "cell_type": "markdown",
      "source": [
        "Finally, let us use our function <font color='Blue'><b>targetP</b></font> to perform portfolio optimization (the target expected return is 15 percent per annum). We have performed similar calculation in Lecture 3:"
      ],
      "metadata": {
        "id": "zhy8JYNGnNGw"
      }
    },
    {
      "cell_type": "code",
      "source": [
        "output_am = qt.targetP(ret_stock,0.15)\n",
        "output_am"
      ],
      "metadata": {
        "colab": {
          "base_uri": "https://localhost:8080/"
        },
        "id": "5xtW_GR5nO1N",
        "outputId": "43c29d17-d45b-4fec-e1e5-63575bb7882b"
      },
      "execution_count": 22,
      "outputs": [
        {
          "output_type": "execute_result",
          "data": {
            "text/plain": [
              "{'w': array([0.1215594 , 0.35926776, 0.25948577, 0.25968707]),\n",
              " 'er': 0.15,\n",
              " 'vol': 0.14282992963310637}"
            ]
          },
          "metadata": {},
          "execution_count": 22
        }
      ]
    },
    {
      "cell_type": "markdown",
      "source": [
        "Recall that:"
      ],
      "metadata": {
        "id": "Y6e95kLjnWa1"
      }
    },
    {
      "cell_type": "markdown",
      "source": [
        "$$\\mathbb{E}(r_i) = r_f + \\beta_i \\mathbb{E}(r_m - r_f)$$"
      ],
      "metadata": {
        "id": "Nz-e231AnXaJ"
      }
    },
    {
      "cell_type": "markdown",
      "source": [
        "To compute the expected returns via CAPM, we first need to estimate $\\beta$. For that we need to regress excess returns on stocks on excess returns on market."
      ],
      "metadata": {
        "id": "gP2ASpgSnYVH"
      }
    },
    {
      "cell_type": "markdown",
      "source": [
        "First we need to select rf rates. Due to the computation of simple retuns we have lost 1 date from data. Thus, we exclude that date from series of rf and keep the rest:"
      ],
      "metadata": {
        "id": "sn8L538znZAz"
      }
    },
    {
      "cell_type": "code",
      "source": [
        "rf=prices['rf'].iloc[1:] #keepin' all except the first value of rf"
      ],
      "metadata": {
        "id": "kMEz85eEnaLp"
      },
      "execution_count": 23,
      "outputs": []
    },
    {
      "cell_type": "markdown",
      "source": [
        "The excess returns on the market (as proxied by SP500):"
      ],
      "metadata": {
        "id": "2i5yBxtBnhmY"
      }
    },
    {
      "cell_type": "code",
      "source": [
        "rmrf=ret['^GSPC']-rf"
      ],
      "metadata": {
        "id": "tfVUoXY_niIR"
      },
      "execution_count": 24,
      "outputs": []
    },
    {
      "cell_type": "code",
      "source": [
        "rmrf"
      ],
      "metadata": {
        "colab": {
          "base_uri": "https://localhost:8080/"
        },
        "id": "cwy94qhMnmHC",
        "outputId": "e6a806fa-b9f6-4c15-ff0a-215b87422968"
      },
      "execution_count": 25,
      "outputs": [
        {
          "output_type": "execute_result",
          "data": {
            "text/plain": [
              "DATE\n",
              "2013-1-3     -0.002092\n",
              "2013-1-4      0.004858\n",
              "2013-1-7     -0.003129\n",
              "2013-1-8     -0.003249\n",
              "2013-1-9      0.002650\n",
              "                ...   \n",
              "2014-12-24   -0.000144\n",
              "2014-12-26    0.003304\n",
              "2014-12-29    0.000857\n",
              "2014-12-30   -0.004891\n",
              "2014-12-31   -0.010315\n",
              "Length: 503, dtype: float64"
            ]
          },
          "metadata": {},
          "execution_count": 25
        }
      ]
    },
    {
      "cell_type": "markdown",
      "source": [
        "On the other hand, the excess returns on stocks are:"
      ],
      "metadata": {
        "id": "WCdRv8GInqlF"
      }
    },
    {
      "cell_type": "code",
      "source": [
        "rsrf=[ret[r]-rf for r in ret_stock.columns]"
      ],
      "metadata": {
        "id": "R9HDVYu4nrPI"
      },
      "execution_count": 26,
      "outputs": []
    },
    {
      "cell_type": "markdown",
      "source": [
        "To estimates parameters of linear regression via OLS method (ordinary least squares) we use function <font color='DodgerBlue'><b>sm.OLS</b></font>. We just need to provide data for target variable and regressors and tell to Python to fit the model to the data."
      ],
      "metadata": {
        "id": "wOJTgYEon4sh"
      }
    },
    {
      "cell_type": "code",
      "source": [
        "regression=[sm.OLS(r,rmrf).fit() for r in rsrf]"
      ],
      "metadata": {
        "id": "j7uRrZ00n5g4"
      },
      "execution_count": 27,
      "outputs": []
    },
    {
      "cell_type": "markdown",
      "source": [
        "The output of function <font color='DodgerBlue'><b>sm.OLS</b></font> is an object which represent estimated model. This object contains all kinds of usefull informations like:\n",
        "1. Parameter estimates\n",
        "2. Standard errors\n",
        "3. P-values\n",
        "4. Statistical test results, etc"
      ],
      "metadata": {
        "id": "4ILdEk08n_nF"
      }
    },
    {
      "cell_type": "markdown",
      "source": [
        "To see all of them in a summary we use method <font color='DeepPink'><b>summary</b></font>. Let's do that for the first estimated model:"
      ],
      "metadata": {
        "id": "tiR3nVW1oFkb"
      }
    },
    {
      "cell_type": "code",
      "source": [
        "regression[0].summary()"
      ],
      "metadata": {
        "colab": {
          "base_uri": "https://localhost:8080/",
          "height": 448
        },
        "id": "BSsx3UfcoAkP",
        "outputId": "c734b5c0-10b5-4048-830e-000946372b28"
      },
      "execution_count": 28,
      "outputs": [
        {
          "output_type": "execute_result",
          "data": {
            "text/plain": [
              "<class 'statsmodels.iolib.summary.Summary'>\n",
              "\"\"\"\n",
              "                                 OLS Regression Results                                \n",
              "=======================================================================================\n",
              "Dep. Variable:                      y   R-squared (uncentered):                   0.265\n",
              "Model:                            OLS   Adj. R-squared (uncentered):              0.264\n",
              "Method:                 Least Squares   F-statistic:                              181.3\n",
              "Date:                Wed, 30 Aug 2023   Prob (F-statistic):                    1.66e-35\n",
              "Time:                        18:15:28   Log-Likelihood:                          1364.4\n",
              "No. Observations:                 503   AIC:                                     -2727.\n",
              "Df Residuals:                     502   BIC:                                     -2723.\n",
              "Df Model:                           1                                                  \n",
              "Covariance Type:            nonrobust                                                  \n",
              "==============================================================================\n",
              "                 coef    std err          t      P>|t|      [0.025      0.975]\n",
              "------------------------------------------------------------------------------\n",
              "x1             1.3756      0.102     13.466      0.000       1.175       1.576\n",
              "==============================================================================\n",
              "Omnibus:                      182.285   Durbin-Watson:                   2.051\n",
              "Prob(Omnibus):                  0.000   Jarque-Bera (JB):             2592.827\n",
              "Skew:                          -1.164   Prob(JB):                         0.00\n",
              "Kurtosis:                      13.876   Cond. No.                         1.00\n",
              "==============================================================================\n",
              "\n",
              "Notes:\n",
              "[1] R² is computed without centering (uncentered) since the model does not contain a constant.\n",
              "[2] Standard Errors assume that the covariance matrix of the errors is correctly specified.\n",
              "\"\"\""
            ],
            "text/html": [
              "<table class=\"simpletable\">\n",
              "<caption>OLS Regression Results</caption>\n",
              "<tr>\n",
              "  <th>Dep. Variable:</th>            <td>y</td>        <th>  R-squared (uncentered):</th>      <td>   0.265</td>\n",
              "</tr>\n",
              "<tr>\n",
              "  <th>Model:</th>                   <td>OLS</td>       <th>  Adj. R-squared (uncentered):</th> <td>   0.264</td>\n",
              "</tr>\n",
              "<tr>\n",
              "  <th>Method:</th>             <td>Least Squares</td>  <th>  F-statistic:       </th>          <td>   181.3</td>\n",
              "</tr>\n",
              "<tr>\n",
              "  <th>Date:</th>             <td>Wed, 30 Aug 2023</td> <th>  Prob (F-statistic):</th>          <td>1.66e-35</td>\n",
              "</tr>\n",
              "<tr>\n",
              "  <th>Time:</th>                 <td>18:15:28</td>     <th>  Log-Likelihood:    </th>          <td>  1364.4</td>\n",
              "</tr>\n",
              "<tr>\n",
              "  <th>No. Observations:</th>      <td>   503</td>      <th>  AIC:               </th>          <td>  -2727.</td>\n",
              "</tr>\n",
              "<tr>\n",
              "  <th>Df Residuals:</th>          <td>   502</td>      <th>  BIC:               </th>          <td>  -2723.</td>\n",
              "</tr>\n",
              "<tr>\n",
              "  <th>Df Model:</th>              <td>     1</td>      <th>                     </th>              <td> </td>   \n",
              "</tr>\n",
              "<tr>\n",
              "  <th>Covariance Type:</th>      <td>nonrobust</td>    <th>                     </th>              <td> </td>   \n",
              "</tr>\n",
              "</table>\n",
              "<table class=\"simpletable\">\n",
              "<tr>\n",
              "   <td></td>     <th>coef</th>     <th>std err</th>      <th>t</th>      <th>P>|t|</th>  <th>[0.025</th>    <th>0.975]</th>  \n",
              "</tr>\n",
              "<tr>\n",
              "  <th>x1</th> <td>    1.3756</td> <td>    0.102</td> <td>   13.466</td> <td> 0.000</td> <td>    1.175</td> <td>    1.576</td>\n",
              "</tr>\n",
              "</table>\n",
              "<table class=\"simpletable\">\n",
              "<tr>\n",
              "  <th>Omnibus:</th>       <td>182.285</td> <th>  Durbin-Watson:     </th> <td>   2.051</td>\n",
              "</tr>\n",
              "<tr>\n",
              "  <th>Prob(Omnibus):</th> <td> 0.000</td>  <th>  Jarque-Bera (JB):  </th> <td>2592.827</td>\n",
              "</tr>\n",
              "<tr>\n",
              "  <th>Skew:</th>          <td>-1.164</td>  <th>  Prob(JB):          </th> <td>    0.00</td>\n",
              "</tr>\n",
              "<tr>\n",
              "  <th>Kurtosis:</th>      <td>13.876</td>  <th>  Cond. No.          </th> <td>    1.00</td>\n",
              "</tr>\n",
              "</table><br/><br/>Notes:<br/>[1] R² is computed without centering (uncentered) since the model does not contain a constant.<br/>[2] Standard Errors assume that the covariance matrix of the errors is correctly specified."
            ],
            "text/latex": "\\begin{center}\n\\begin{tabular}{lclc}\n\\toprule\n\\textbf{Dep. Variable:}    &        y         & \\textbf{  R-squared (uncentered):}      &     0.265   \\\\\n\\textbf{Model:}            &       OLS        & \\textbf{  Adj. R-squared (uncentered):} &     0.264   \\\\\n\\textbf{Method:}           &  Least Squares   & \\textbf{  F-statistic:       }          &     181.3   \\\\\n\\textbf{Date:}             & Wed, 30 Aug 2023 & \\textbf{  Prob (F-statistic):}          &  1.66e-35   \\\\\n\\textbf{Time:}             &     18:15:28     & \\textbf{  Log-Likelihood:    }          &    1364.4   \\\\\n\\textbf{No. Observations:} &         503      & \\textbf{  AIC:               }          &    -2727.   \\\\\n\\textbf{Df Residuals:}     &         502      & \\textbf{  BIC:               }          &    -2723.   \\\\\n\\textbf{Df Model:}         &           1      & \\textbf{                     }          &             \\\\\n\\textbf{Covariance Type:}  &    nonrobust     & \\textbf{                     }          &             \\\\\n\\bottomrule\n\\end{tabular}\n\\begin{tabular}{lcccccc}\n            & \\textbf{coef} & \\textbf{std err} & \\textbf{t} & \\textbf{P$> |$t$|$} & \\textbf{[0.025} & \\textbf{0.975]}  \\\\\n\\midrule\n\\textbf{x1} &       1.3756  &        0.102     &    13.466  &         0.000        &        1.175    &        1.576     \\\\\n\\bottomrule\n\\end{tabular}\n\\begin{tabular}{lclc}\n\\textbf{Omnibus:}       & 182.285 & \\textbf{  Durbin-Watson:     } &    2.051  \\\\\n\\textbf{Prob(Omnibus):} &   0.000 & \\textbf{  Jarque-Bera (JB):  } & 2592.827  \\\\\n\\textbf{Skew:}          &  -1.164 & \\textbf{  Prob(JB):          } &     0.00  \\\\\n\\textbf{Kurtosis:}      &  13.876 & \\textbf{  Cond. No.          } &     1.00  \\\\\n\\bottomrule\n\\end{tabular}\n%\\caption{OLS Regression Results}\n\\end{center}\n\nNotes: \\newline\n [1] R² is computed without centering (uncentered) since the model does not contain a constant. \\newline\n [2] Standard Errors assume that the covariance matrix of the errors is correctly specified."
          },
          "metadata": {},
          "execution_count": 28
        }
      ]
    },
    {
      "cell_type": "markdown",
      "source": [
        "Since we need only information about $\\beta$ (regression parameter) let's extract only that via attribute <font color='Firebrick'><b>params</b></font>. At the same time, since <font color='DodgerBlue'><b>np.array</b></font> are vectorized it is convenient to convert listo of parameters into <font color='DodgerBlue'><b>np.array</b></font> of parameters:"
      ],
      "metadata": {
        "id": "j0xLdIzroXzg"
      }
    },
    {
      "cell_type": "code",
      "source": [
        "b=np.array([reg.params['x1']for reg in regression]) # this is np array of betas for 4 stocks"
      ],
      "metadata": {
        "id": "tgmYAoFyocs2"
      },
      "execution_count": 29,
      "outputs": []
    },
    {
      "cell_type": "code",
      "source": [
        "b"
      ],
      "metadata": {
        "colab": {
          "base_uri": "https://localhost:8080/"
        },
        "id": "b6adBN_zoktf",
        "outputId": "c1863fe8-8f10-438c-a448-2874755baa7a"
      },
      "execution_count": 30,
      "outputs": [
        {
          "output_type": "execute_result",
          "data": {
            "text/plain": [
              "array([1.37562401, 0.91574696, 0.72801012, 0.72098759])"
            ]
          },
          "metadata": {},
          "execution_count": 30
        }
      ]
    },
    {
      "cell_type": "markdown",
      "source": [
        "Now we have everything that we need to compute the expected returns:"
      ],
      "metadata": {
        "id": "f_zIVaLPom8b"
      }
    },
    {
      "cell_type": "code",
      "source": [
        "erd = rf.mean()+b*rmrf.mean()\n",
        "erd"
      ],
      "metadata": {
        "colab": {
          "base_uri": "https://localhost:8080/"
        },
        "id": "FiUZ93LConVE",
        "outputId": "56c91a99-7ec0-44ae-8980-d7e44d211235"
      },
      "execution_count": 31,
      "outputs": [
        {
          "output_type": "execute_result",
          "data": {
            "text/plain": [
              "array([0.00096796, 0.00064567, 0.0005141 , 0.00050918])"
            ]
          },
          "metadata": {},
          "execution_count": 31
        }
      ]
    },
    {
      "cell_type": "markdown",
      "source": [
        "Bear in mind that these are daily expected returns, so we need to annualize them:"
      ],
      "metadata": {
        "id": "JU3mJUMkouV-"
      }
    },
    {
      "cell_type": "code",
      "source": [
        "erd*252"
      ],
      "metadata": {
        "colab": {
          "base_uri": "https://localhost:8080/"
        },
        "id": "AGYxJutoouz4",
        "outputId": "7effc11a-9890-4e24-a781-b480a8a8fe7a"
      },
      "execution_count": 32,
      "outputs": [
        {
          "output_type": "execute_result",
          "data": {
            "text/plain": [
              "array([0.24392524, 0.16270896, 0.12955383, 0.12831362])"
            ]
          },
          "metadata": {},
          "execution_count": 32
        }
      ]
    },
    {
      "cell_type": "markdown",
      "source": [
        "We now define the new function <font color='Blue'><b>erCAPM</b></font> which computes expected return for stocks in given dataset based on CAPM."
      ],
      "metadata": {
        "id": "kPC-FnfCoxYN"
      }
    },
    {
      "cell_type": "code",
      "source": [
        "def erCAPM(ret,market,rf,f=252):\n",
        "    \"\"\"Computes expected returns by assuiming that: (1) CAPM holds and (2) arithmetic mean is good estimate of expected value.\n",
        "    - ret: dataset of returns\n",
        "    - market: vector of market returns\n",
        "    - rf: vector of risk-free rate\n",
        "    - f: optional, frequency at which data is collected (by default it is 252, i.e. dailiy data is assumed)\"\"\"\n",
        "    RmRf=market-rf\n",
        "    if isinstance(ret,pd.DataFrame):\n",
        "        b=np.array([sm.OLS(ret[r]-rf, RmRf).fit().params['x1'] for r in ret.columns])\n",
        "    else:\n",
        "        b=sm.OLS(ret-rf, RmRf).fit().params['x1']\n",
        "    return f*(np.mean(rf)+b*np.mean(RmRf)).flatten()"
      ],
      "metadata": {
        "id": "Eyth3XKCqOd6"
      },
      "execution_count": 35,
      "outputs": []
    },
    {
      "cell_type": "markdown",
      "source": [
        "Now, let us compute expected returns via our function (bear in mind that, since we lose one date when we compute returns from prices, we need to drop one date from risk-free rates data):"
      ],
      "metadata": {
        "id": "OGij25NGqWdg"
      }
    },
    {
      "cell_type": "code",
      "source": [
        "CAPM_exp_ret = erCAPM(ret_stock,ret['^GSPC'],rf)\n",
        "CAPM_exp_ret"
      ],
      "metadata": {
        "colab": {
          "base_uri": "https://localhost:8080/"
        },
        "id": "bTNHth9-ozdJ",
        "outputId": "94bcf422-2160-4261-e6a7-dd1eee01943a"
      },
      "execution_count": 38,
      "outputs": [
        {
          "output_type": "execute_result",
          "data": {
            "text/plain": [
              "array([0.24392524, 0.16270896, 0.12955383, 0.12831362])"
            ]
          },
          "metadata": {},
          "execution_count": 38
        }
      ]
    },
    {
      "cell_type": "markdown",
      "source": [
        " Note that the expected returns using the CAPM method are much closer to each other than is the case when we use sample mean approach."
      ],
      "metadata": {
        "id": "2utG3lOJqYiz"
      }
    },
    {
      "cell_type": "markdown",
      "source": [
        "Now we are prepared to perform portfolio optimization. This is the first time that we use parameter ***er_assumed***. This parameter is used when you want to insert in optimization process estimates of expected returns which are based on some metric which isn't already implemented in function <font color='Blue'><b>targetP</b></font> (let me remind you that this function incorporate estimates of expected returns based on annualized compounded geometric mean or annualized arithmetic mean)."
      ],
      "metadata": {
        "id": "0er762gtqZht"
      }
    },
    {
      "cell_type": "code",
      "source": [
        "output_CAPM = qt.targetP(ret_stock,0.15,er_assumed=CAPM_exp_ret)\n",
        "output_CAPM"
      ],
      "metadata": {
        "colab": {
          "base_uri": "https://localhost:8080/"
        },
        "id": "h_6chRXEqb8z",
        "outputId": "be86f5d6-5877-45cf-c668-2317845226ba"
      },
      "execution_count": 39,
      "outputs": [
        {
          "output_type": "execute_result",
          "data": {
            "text/plain": [
              "{'w': array([0.11195381, 0.23847435, 0.43606567, 0.21350616]),\n",
              " 'er': 0.15,\n",
              " 'vol': 0.1377540303127068}"
            ]
          },
          "metadata": {},
          "execution_count": 39
        }
      ]
    },
    {
      "cell_type": "markdown",
      "source": [
        "Let's take a look at difference in optimal portfolios in terms of weights estimated in this way:"
      ],
      "metadata": {
        "id": "5a6NKGSHqmbY"
      }
    },
    {
      "cell_type": "code",
      "source": [
        "output_CAPM['w']-output_am['w']"
      ],
      "metadata": {
        "colab": {
          "base_uri": "https://localhost:8080/"
        },
        "id": "vb6gr1Jnqm7u",
        "outputId": "6d4ea322-2baf-45b3-84a4-86bbae1aaad4"
      },
      "execution_count": 40,
      "outputs": [
        {
          "output_type": "execute_result",
          "data": {
            "text/plain": [
              "array([-0.00960559, -0.1207934 ,  0.1765799 , -0.04618091])"
            ]
          },
          "metadata": {},
          "execution_count": 40
        }
      ]
    },
    {
      "cell_type": "markdown",
      "source": [
        "As you can see different estimate of one input leads to completely different output. Also, note that although expected returns are the same in case of both portfolios, CAPM estimates in this case lead to slightly lower level of risk (measured by volatility):"
      ],
      "metadata": {
        "id": "wpKD9ZWOqtIX"
      }
    },
    {
      "cell_type": "code",
      "source": [
        "output_CAPM['vol']-output_am['vol']"
      ],
      "metadata": {
        "colab": {
          "base_uri": "https://localhost:8080/"
        },
        "id": "XjrEQMfbqvIL",
        "outputId": "76ccbfb7-9c07-4f49-e37f-7f36df6abed1"
      },
      "execution_count": 41,
      "outputs": [
        {
          "output_type": "execute_result",
          "data": {
            "text/plain": [
              "-0.005075899320399563"
            ]
          },
          "metadata": {},
          "execution_count": 41
        }
      ]
    },
    {
      "cell_type": "markdown",
      "source": [
        "### <font color='blue' style=\"font-size:20px\"><b>Read on your own: CAPM as a benchmark </b></font>"
      ],
      "metadata": {
        "id": "4AZHFAiuqzN4"
      }
    },
    {
      "cell_type": "markdown",
      "source": [
        "Recall that according to the \"two funds separation theorem\", rational investor would only invest in the market portfolio and risk-free asset because in this way she maximizes Sharpe's ratio of his/hers investment. The exact proportion of these two ingredients would depend on her risk appetite."
      ],
      "metadata": {
        "id": "Ckd-P9H3q0eL"
      }
    },
    {
      "cell_type": "markdown",
      "source": [
        "Assume that you have estimated, using CAPM, that beta of your portfolio is $1.3$. Furthermore, assume that CAPM holds, thus alpha is statistically not different from 0. In that case, the expected return on your portfolio is:"
      ],
      "metadata": {
        "id": "twdvXlbwq1Yy"
      }
    },
    {
      "cell_type": "markdown",
      "source": [
        "$$\\mathbb{E}(r_i) = r_f + 1.3 \\mathbb{E}(r_m - r_f)$$"
      ],
      "metadata": {
        "id": "_GfYDZKEq2ZQ"
      }
    },
    {
      "cell_type": "markdown",
      "source": [
        "Since risk-free rate is a constant:"
      ],
      "metadata": {
        "id": "Pku8lW29q3ur"
      }
    },
    {
      "cell_type": "markdown",
      "source": [
        "$$\\mathbb{E}(r_i) = r_f + 1.3 \\left(\\mathbb{E}(r_m) - r_f\\right)=r_f+1.3\\mathbb{E}(r_m)-1.3r_f=1.3\\mathbb{E}(r_m)-0.3r_f$$"
      ],
      "metadata": {
        "id": "n2fTm3ueq4sj"
      }
    },
    {
      "cell_type": "markdown",
      "source": [
        "If I have a dollar, I can borrow 30c risk-free and invest 1.30 dollars on the market to replicate the asset at hand. This combination is called the **benchmark portfolio** since it tells me which combination of the market index and risk-free asset will yield the same expected return as my portfolio or particular asset."
      ],
      "metadata": {
        "id": "OVXhtGWQq5v0"
      }
    },
    {
      "cell_type": "markdown",
      "source": [
        "Thus, if market is efficient and if two-funds separation theorem holds, all I need is risk-free asset and the market index. In such case, I cannot beat the market."
      ],
      "metadata": {
        "id": "d3Zkm_gdq7i7"
      }
    },
    {
      "cell_type": "markdown",
      "source": [
        "Next, let us assume that CAPM doesn't hold and that I have a statistically significant alpha. You may try to eliminate that alpha by adding other relevant factors in your model, but let's assume that even after that your alpha is still statistically significant."
      ],
      "metadata": {
        "id": "1pFE49hHq8fe"
      }
    },
    {
      "cell_type": "markdown",
      "source": [
        "If $\\alpha >0$, this could be perhaps interpreted as the value added by the investor who has created the portfolio. This is the reason why we can reinterpret factor models as a benchmark. Hedge fund managers love to bragg about high alphas. Professor of finance publish papers explaining alphas etc.\n",
        "\n",
        "In other words, given an adopted set of benchmark factors, it is often thought that if you do not get $\\alpha>0$, you have provided no value as a manager. On the other hand, a cursory look demonstrates that things depend heavily on the choice of factors. There can also be luck involved."
      ],
      "metadata": {
        "id": "wWpdf-K0q9J8"
      }
    },
    {
      "cell_type": "markdown",
      "source": [
        "Let me conclude. You can reinterpret a factor model as a benchmark or yardstick with each you measure performance of a fund manager. Run the regression with all necessary factors included and look at the $\\alpha$. If you do not find positive alpha, thiis may be interpreted as if you did not provide value as a manager with respect to the passive investment in the factor(s) that is used to benchmark you!\n",
        "\n"
      ],
      "metadata": {
        "id": "nMLapAIoq-Lx"
      }
    }
  ]
}